{
 "cells": [
  {
   "cell_type": "code",
   "execution_count": 1,
   "id": "81dff96e",
   "metadata": {},
   "outputs": [],
   "source": [
    "import pandas as pd\n",
    "from sklearn.model_selection import train_test_split\n",
    "from sklearn.ensemble import ExtraTreesClassifier\n",
    "from sklearn.model_selection import cross_val_score\n",
    "from sklearn.ensemble import RandomForestClassifier\n",
    "from sklearn.metrics import roc_auc_score, plot_roc_curve\n",
    "import numpy as np\n",
    "import warnings\n",
    "warnings.filterwarnings('ignore')\n",
    "import matplotlib.pyplot as plt"
   ]
  },
  {
   "cell_type": "code",
   "execution_count": 2,
   "id": "119d2798",
   "metadata": {
    "scrolled": false
   },
   "outputs": [
    {
     "data": {
      "text/html": [
       "<div>\n",
       "<style scoped>\n",
       "    .dataframe tbody tr th:only-of-type {\n",
       "        vertical-align: middle;\n",
       "    }\n",
       "\n",
       "    .dataframe tbody tr th {\n",
       "        vertical-align: top;\n",
       "    }\n",
       "\n",
       "    .dataframe thead th {\n",
       "        text-align: right;\n",
       "    }\n",
       "</style>\n",
       "<table border=\"1\" class=\"dataframe\">\n",
       "  <thead>\n",
       "    <tr style=\"text-align: right;\">\n",
       "      <th></th>\n",
       "      <th>latitude</th>\n",
       "      <th>lontitude</th>\n",
       "      <th>hour</th>\n",
       "      <th>injury_level</th>\n",
       "      <th>No equipment</th>\n",
       "      <th>Belt</th>\n",
       "      <th>Helmet</th>\n",
       "      <th>Children device</th>\n",
       "      <th>reflective vest</th>\n",
       "      <th>Airbag (2WD / 3WD)</th>\n",
       "      <th>...</th>\n",
       "      <th>maneuver_8</th>\n",
       "      <th>maneuver_9</th>\n",
       "      <th>motor_-1</th>\n",
       "      <th>motor_0</th>\n",
       "      <th>motor_1</th>\n",
       "      <th>motor_2</th>\n",
       "      <th>motor_3</th>\n",
       "      <th>motor_4</th>\n",
       "      <th>motor_5</th>\n",
       "      <th>motor_6</th>\n",
       "    </tr>\n",
       "  </thead>\n",
       "  <tbody>\n",
       "    <tr>\n",
       "      <th>0</th>\n",
       "      <td>48.896210</td>\n",
       "      <td>2.470120</td>\n",
       "      <td>1.0</td>\n",
       "      <td>4</td>\n",
       "      <td>1</td>\n",
       "      <td>1</td>\n",
       "      <td>0</td>\n",
       "      <td>0</td>\n",
       "      <td>0</td>\n",
       "      <td>0</td>\n",
       "      <td>...</td>\n",
       "      <td>0</td>\n",
       "      <td>0</td>\n",
       "      <td>0</td>\n",
       "      <td>0</td>\n",
       "      <td>1</td>\n",
       "      <td>0</td>\n",
       "      <td>0</td>\n",
       "      <td>0</td>\n",
       "      <td>0</td>\n",
       "      <td>0</td>\n",
       "    </tr>\n",
       "    <tr>\n",
       "      <th>1</th>\n",
       "      <td>48.896210</td>\n",
       "      <td>2.470120</td>\n",
       "      <td>1.0</td>\n",
       "      <td>4</td>\n",
       "      <td>1</td>\n",
       "      <td>1</td>\n",
       "      <td>0</td>\n",
       "      <td>0</td>\n",
       "      <td>0</td>\n",
       "      <td>0</td>\n",
       "      <td>...</td>\n",
       "      <td>0</td>\n",
       "      <td>0</td>\n",
       "      <td>0</td>\n",
       "      <td>0</td>\n",
       "      <td>1</td>\n",
       "      <td>0</td>\n",
       "      <td>0</td>\n",
       "      <td>0</td>\n",
       "      <td>0</td>\n",
       "      <td>0</td>\n",
       "    </tr>\n",
       "    <tr>\n",
       "      <th>2</th>\n",
       "      <td>48.896210</td>\n",
       "      <td>2.470120</td>\n",
       "      <td>1.0</td>\n",
       "      <td>1</td>\n",
       "      <td>1</td>\n",
       "      <td>1</td>\n",
       "      <td>0</td>\n",
       "      <td>0</td>\n",
       "      <td>0</td>\n",
       "      <td>0</td>\n",
       "      <td>...</td>\n",
       "      <td>0</td>\n",
       "      <td>0</td>\n",
       "      <td>0</td>\n",
       "      <td>0</td>\n",
       "      <td>1</td>\n",
       "      <td>0</td>\n",
       "      <td>0</td>\n",
       "      <td>0</td>\n",
       "      <td>0</td>\n",
       "      <td>0</td>\n",
       "    </tr>\n",
       "    <tr>\n",
       "      <th>3</th>\n",
       "      <td>48.930700</td>\n",
       "      <td>2.368800</td>\n",
       "      <td>2.0</td>\n",
       "      <td>4</td>\n",
       "      <td>1</td>\n",
       "      <td>1</td>\n",
       "      <td>0</td>\n",
       "      <td>0</td>\n",
       "      <td>0</td>\n",
       "      <td>0</td>\n",
       "      <td>...</td>\n",
       "      <td>0</td>\n",
       "      <td>0</td>\n",
       "      <td>0</td>\n",
       "      <td>0</td>\n",
       "      <td>1</td>\n",
       "      <td>0</td>\n",
       "      <td>0</td>\n",
       "      <td>0</td>\n",
       "      <td>0</td>\n",
       "      <td>0</td>\n",
       "    </tr>\n",
       "    <tr>\n",
       "      <th>4</th>\n",
       "      <td>48.935872</td>\n",
       "      <td>2.319174</td>\n",
       "      <td>15.0</td>\n",
       "      <td>1</td>\n",
       "      <td>1</td>\n",
       "      <td>1</td>\n",
       "      <td>0</td>\n",
       "      <td>0</td>\n",
       "      <td>0</td>\n",
       "      <td>0</td>\n",
       "      <td>...</td>\n",
       "      <td>0</td>\n",
       "      <td>0</td>\n",
       "      <td>0</td>\n",
       "      <td>0</td>\n",
       "      <td>1</td>\n",
       "      <td>0</td>\n",
       "      <td>0</td>\n",
       "      <td>0</td>\n",
       "      <td>0</td>\n",
       "      <td>0</td>\n",
       "    </tr>\n",
       "  </tbody>\n",
       "</table>\n",
       "<p>5 rows × 215 columns</p>\n",
       "</div>"
      ],
      "text/plain": [
       "    latitude  lontitude  hour  injury_level  No equipment  Belt  Helmet  \\\n",
       "0  48.896210   2.470120   1.0             4             1     1       0   \n",
       "1  48.896210   2.470120   1.0             4             1     1       0   \n",
       "2  48.896210   2.470120   1.0             1             1     1       0   \n",
       "3  48.930700   2.368800   2.0             4             1     1       0   \n",
       "4  48.935872   2.319174  15.0             1             1     1       0   \n",
       "\n",
       "   Children device  reflective vest  Airbag (2WD / 3WD)  ...  maneuver_8  \\\n",
       "0                0                0                   0  ...           0   \n",
       "1                0                0                   0  ...           0   \n",
       "2                0                0                   0  ...           0   \n",
       "3                0                0                   0  ...           0   \n",
       "4                0                0                   0  ...           0   \n",
       "\n",
       "   maneuver_9  motor_-1  motor_0  motor_1  motor_2  motor_3  motor_4  motor_5  \\\n",
       "0           0         0        0        1        0        0        0        0   \n",
       "1           0         0        0        1        0        0        0        0   \n",
       "2           0         0        0        1        0        0        0        0   \n",
       "3           0         0        0        1        0        0        0        0   \n",
       "4           0         0        0        1        0        0        0        0   \n",
       "\n",
       "   motor_6  \n",
       "0        0  \n",
       "1        0  \n",
       "2        0  \n",
       "3        0  \n",
       "4        0  \n",
       "\n",
       "[5 rows x 215 columns]"
      ]
     },
     "execution_count": 2,
     "metadata": {},
     "output_type": "execute_result"
    }
   ],
   "source": [
    "merged = pd.read_csv('Cleaned Data/Final/Merge_AllFeatures.csv')\n",
    "merged.head()"
   ]
  },
  {
   "cell_type": "code",
   "execution_count": 3,
   "id": "4733cca1",
   "metadata": {
    "scrolled": true
   },
   "outputs": [
    {
     "data": {
      "text/html": [
       "<div>\n",
       "<style scoped>\n",
       "    .dataframe tbody tr th:only-of-type {\n",
       "        vertical-align: middle;\n",
       "    }\n",
       "\n",
       "    .dataframe tbody tr th {\n",
       "        vertical-align: top;\n",
       "    }\n",
       "\n",
       "    .dataframe thead th {\n",
       "        text-align: right;\n",
       "    }\n",
       "</style>\n",
       "<table border=\"1\" class=\"dataframe\">\n",
       "  <thead>\n",
       "    <tr style=\"text-align: right;\">\n",
       "      <th></th>\n",
       "      <th>latitude</th>\n",
       "      <th>lontitude</th>\n",
       "      <th>hour</th>\n",
       "      <th>No equipment</th>\n",
       "      <th>Belt</th>\n",
       "      <th>Helmet</th>\n",
       "      <th>Children device</th>\n",
       "      <th>reflective vest</th>\n",
       "      <th>Airbag (2WD / 3WD)</th>\n",
       "      <th>Gloves (2WD / 3WD)</th>\n",
       "      <th>...</th>\n",
       "      <th>maneuver_8</th>\n",
       "      <th>maneuver_9</th>\n",
       "      <th>motor_-1</th>\n",
       "      <th>motor_0</th>\n",
       "      <th>motor_1</th>\n",
       "      <th>motor_2</th>\n",
       "      <th>motor_3</th>\n",
       "      <th>motor_4</th>\n",
       "      <th>motor_5</th>\n",
       "      <th>motor_6</th>\n",
       "    </tr>\n",
       "    <tr>\n",
       "      <th>injury_level</th>\n",
       "      <th></th>\n",
       "      <th></th>\n",
       "      <th></th>\n",
       "      <th></th>\n",
       "      <th></th>\n",
       "      <th></th>\n",
       "      <th></th>\n",
       "      <th></th>\n",
       "      <th></th>\n",
       "      <th></th>\n",
       "      <th></th>\n",
       "      <th></th>\n",
       "      <th></th>\n",
       "      <th></th>\n",
       "      <th></th>\n",
       "      <th></th>\n",
       "      <th></th>\n",
       "      <th></th>\n",
       "      <th></th>\n",
       "      <th></th>\n",
       "      <th></th>\n",
       "    </tr>\n",
       "  </thead>\n",
       "  <tbody>\n",
       "    <tr>\n",
       "      <th>1</th>\n",
       "      <td>55314</td>\n",
       "      <td>55314</td>\n",
       "      <td>55314</td>\n",
       "      <td>55314</td>\n",
       "      <td>55314</td>\n",
       "      <td>55314</td>\n",
       "      <td>55314</td>\n",
       "      <td>55314</td>\n",
       "      <td>55314</td>\n",
       "      <td>55314</td>\n",
       "      <td>...</td>\n",
       "      <td>55314</td>\n",
       "      <td>55314</td>\n",
       "      <td>55314</td>\n",
       "      <td>55314</td>\n",
       "      <td>55314</td>\n",
       "      <td>55314</td>\n",
       "      <td>55314</td>\n",
       "      <td>55314</td>\n",
       "      <td>55314</td>\n",
       "      <td>55314</td>\n",
       "    </tr>\n",
       "    <tr>\n",
       "      <th>2</th>\n",
       "      <td>3498</td>\n",
       "      <td>3498</td>\n",
       "      <td>3498</td>\n",
       "      <td>3498</td>\n",
       "      <td>3498</td>\n",
       "      <td>3498</td>\n",
       "      <td>3498</td>\n",
       "      <td>3498</td>\n",
       "      <td>3498</td>\n",
       "      <td>3498</td>\n",
       "      <td>...</td>\n",
       "      <td>3498</td>\n",
       "      <td>3498</td>\n",
       "      <td>3498</td>\n",
       "      <td>3498</td>\n",
       "      <td>3498</td>\n",
       "      <td>3498</td>\n",
       "      <td>3498</td>\n",
       "      <td>3498</td>\n",
       "      <td>3498</td>\n",
       "      <td>3498</td>\n",
       "    </tr>\n",
       "    <tr>\n",
       "      <th>3</th>\n",
       "      <td>20858</td>\n",
       "      <td>20858</td>\n",
       "      <td>20858</td>\n",
       "      <td>20858</td>\n",
       "      <td>20858</td>\n",
       "      <td>20858</td>\n",
       "      <td>20858</td>\n",
       "      <td>20858</td>\n",
       "      <td>20858</td>\n",
       "      <td>20858</td>\n",
       "      <td>...</td>\n",
       "      <td>20858</td>\n",
       "      <td>20858</td>\n",
       "      <td>20858</td>\n",
       "      <td>20858</td>\n",
       "      <td>20858</td>\n",
       "      <td>20858</td>\n",
       "      <td>20858</td>\n",
       "      <td>20858</td>\n",
       "      <td>20858</td>\n",
       "      <td>20858</td>\n",
       "    </tr>\n",
       "    <tr>\n",
       "      <th>4</th>\n",
       "      <td>53307</td>\n",
       "      <td>53307</td>\n",
       "      <td>53307</td>\n",
       "      <td>53307</td>\n",
       "      <td>53307</td>\n",
       "      <td>53307</td>\n",
       "      <td>53307</td>\n",
       "      <td>53307</td>\n",
       "      <td>53307</td>\n",
       "      <td>53307</td>\n",
       "      <td>...</td>\n",
       "      <td>53307</td>\n",
       "      <td>53307</td>\n",
       "      <td>53307</td>\n",
       "      <td>53307</td>\n",
       "      <td>53307</td>\n",
       "      <td>53307</td>\n",
       "      <td>53307</td>\n",
       "      <td>53307</td>\n",
       "      <td>53307</td>\n",
       "      <td>53307</td>\n",
       "    </tr>\n",
       "  </tbody>\n",
       "</table>\n",
       "<p>4 rows × 214 columns</p>\n",
       "</div>"
      ],
      "text/plain": [
       "              latitude  lontitude   hour  No equipment   Belt  Helmet  \\\n",
       "injury_level                                                            \n",
       "1                55314      55314  55314         55314  55314   55314   \n",
       "2                 3498       3498   3498          3498   3498    3498   \n",
       "3                20858      20858  20858         20858  20858   20858   \n",
       "4                53307      53307  53307         53307  53307   53307   \n",
       "\n",
       "              Children device  reflective vest  Airbag (2WD / 3WD)  \\\n",
       "injury_level                                                         \n",
       "1                       55314            55314               55314   \n",
       "2                        3498             3498                3498   \n",
       "3                       20858            20858               20858   \n",
       "4                       53307            53307               53307   \n",
       "\n",
       "              Gloves (2WD / 3WD)  ...  maneuver_8  maneuver_9  motor_-1  \\\n",
       "injury_level                      ...                                     \n",
       "1                          55314  ...       55314       55314     55314   \n",
       "2                           3498  ...        3498        3498      3498   \n",
       "3                          20858  ...       20858       20858     20858   \n",
       "4                          53307  ...       53307       53307     53307   \n",
       "\n",
       "              motor_0  motor_1  motor_2  motor_3  motor_4  motor_5  motor_6  \n",
       "injury_level                                                                 \n",
       "1               55314    55314    55314    55314    55314    55314    55314  \n",
       "2                3498     3498     3498     3498     3498     3498     3498  \n",
       "3               20858    20858    20858    20858    20858    20858    20858  \n",
       "4               53307    53307    53307    53307    53307    53307    53307  \n",
       "\n",
       "[4 rows x 214 columns]"
      ]
     },
     "execution_count": 3,
     "metadata": {},
     "output_type": "execute_result"
    }
   ],
   "source": [
    "merged.groupby(['injury_level']).count()"
   ]
  },
  {
   "cell_type": "markdown",
   "id": "6ba7a847",
   "metadata": {},
   "source": [
    "Since data is imbalanced, we need to rebalance data, and train, valid and test on the rebalanced data to avoid neglecting class"
   ]
  },
  {
   "cell_type": "markdown",
   "id": "f1fe6609",
   "metadata": {},
   "source": [
    "# Train test split"
   ]
  },
  {
   "cell_type": "code",
   "execution_count": 4,
   "id": "a26b40a4",
   "metadata": {},
   "outputs": [],
   "source": [
    "# Train-test split on oversampled data\n",
    "features = merged.drop(columns=['injury_level']).columns\n",
    "X = merged[features]\n",
    "Y = merged['injury_level']\n",
    "X_train, X_test, Y_train, Y_test = train_test_split(X, Y, test_size=0.2, random_state=42)"
   ]
  },
  {
   "cell_type": "code",
   "execution_count": 5,
   "id": "5234ea48",
   "metadata": {},
   "outputs": [
    {
     "data": {
      "image/png": "[encoded data removed]",
      "text/plain": [
       "<Figure size 432x288 with 1 Axes>"
      ]
     },
     "metadata": {
      "needs_background": "light"
     },
     "output_type": "display_data"
    },
    {
     "name": "stdout",
     "output_type": "stream",
     "text": [
      "Original training data - imbalanced\n"
     ]
    }
   ],
   "source": [
    "# Show original training data - imbalanced\n",
    "Y_train = Y_train.astype(str)\n",
    "Y_test = Y_test.astype(str)\n",
    "ticks = [0, 1, 2, 3]\n",
    "labels = ['Slightly Injured', 'Unharmed', 'Injured hospitalized', 'Killed']\n",
    "plt.xticks(ticks, labels)\n",
    "plt.hist(Y_train)\n",
    "plt.xticks()\n",
    "plt.show()\n",
    "print('Original training data - imbalanced')"
   ]
  },
  {
   "cell_type": "markdown",
   "id": "5ef3ed4f",
   "metadata": {},
   "source": [
    "# Rebalance Training Data"
   ]
  },
  {
   "cell_type": "code",
   "execution_count": 6,
   "id": "04ad1346",
   "metadata": {
    "scrolled": true
   },
   "outputs": [
    {
     "data": {
      "text/html": [
       "<div>\n",
       "<style scoped>\n",
       "    .dataframe tbody tr th:only-of-type {\n",
       "        vertical-align: middle;\n",
       "    }\n",
       "\n",
       "    .dataframe tbody tr th {\n",
       "        vertical-align: top;\n",
       "    }\n",
       "\n",
       "    .dataframe thead th {\n",
       "        text-align: right;\n",
       "    }\n",
       "</style>\n",
       "<table border=\"1\" class=\"dataframe\">\n",
       "  <thead>\n",
       "    <tr style=\"text-align: right;\">\n",
       "      <th></th>\n",
       "      <th>latitude</th>\n",
       "      <th>lontitude</th>\n",
       "      <th>hour</th>\n",
       "      <th>No equipment</th>\n",
       "      <th>Belt</th>\n",
       "      <th>Helmet</th>\n",
       "      <th>Children device</th>\n",
       "      <th>reflective vest</th>\n",
       "      <th>Airbag (2WD / 3WD)</th>\n",
       "      <th>Gloves (2WD / 3WD)</th>\n",
       "      <th>...</th>\n",
       "      <th>maneuver_9</th>\n",
       "      <th>motor_-1</th>\n",
       "      <th>motor_0</th>\n",
       "      <th>motor_1</th>\n",
       "      <th>motor_2</th>\n",
       "      <th>motor_3</th>\n",
       "      <th>motor_4</th>\n",
       "      <th>motor_5</th>\n",
       "      <th>motor_6</th>\n",
       "      <th>injury_level</th>\n",
       "    </tr>\n",
       "  </thead>\n",
       "  <tbody>\n",
       "    <tr>\n",
       "      <th>108834</th>\n",
       "      <td>48.770690</td>\n",
       "      <td>2.493790</td>\n",
       "      <td>18.0</td>\n",
       "      <td>1</td>\n",
       "      <td>1</td>\n",
       "      <td>0</td>\n",
       "      <td>0</td>\n",
       "      <td>0</td>\n",
       "      <td>0</td>\n",
       "      <td>0</td>\n",
       "      <td>...</td>\n",
       "      <td>0</td>\n",
       "      <td>0</td>\n",
       "      <td>0</td>\n",
       "      <td>1</td>\n",
       "      <td>0</td>\n",
       "      <td>0</td>\n",
       "      <td>0</td>\n",
       "      <td>0</td>\n",
       "      <td>0</td>\n",
       "      <td>4</td>\n",
       "    </tr>\n",
       "    <tr>\n",
       "      <th>73816</th>\n",
       "      <td>47.928100</td>\n",
       "      <td>1.924300</td>\n",
       "      <td>14.0</td>\n",
       "      <td>1</td>\n",
       "      <td>1</td>\n",
       "      <td>0</td>\n",
       "      <td>0</td>\n",
       "      <td>0</td>\n",
       "      <td>0</td>\n",
       "      <td>0</td>\n",
       "      <td>...</td>\n",
       "      <td>0</td>\n",
       "      <td>0</td>\n",
       "      <td>0</td>\n",
       "      <td>1</td>\n",
       "      <td>0</td>\n",
       "      <td>0</td>\n",
       "      <td>0</td>\n",
       "      <td>0</td>\n",
       "      <td>0</td>\n",
       "      <td>4</td>\n",
       "    </tr>\n",
       "    <tr>\n",
       "      <th>35605</th>\n",
       "      <td>48.455476</td>\n",
       "      <td>-4.626288</td>\n",
       "      <td>11.0</td>\n",
       "      <td>0</td>\n",
       "      <td>1</td>\n",
       "      <td>0</td>\n",
       "      <td>0</td>\n",
       "      <td>0</td>\n",
       "      <td>0</td>\n",
       "      <td>0</td>\n",
       "      <td>...</td>\n",
       "      <td>0</td>\n",
       "      <td>0</td>\n",
       "      <td>0</td>\n",
       "      <td>0</td>\n",
       "      <td>0</td>\n",
       "      <td>0</td>\n",
       "      <td>0</td>\n",
       "      <td>0</td>\n",
       "      <td>1</td>\n",
       "      <td>1</td>\n",
       "    </tr>\n",
       "    <tr>\n",
       "      <th>98227</th>\n",
       "      <td>48.697180</td>\n",
       "      <td>2.552190</td>\n",
       "      <td>8.0</td>\n",
       "      <td>1</td>\n",
       "      <td>0</td>\n",
       "      <td>0</td>\n",
       "      <td>0</td>\n",
       "      <td>0</td>\n",
       "      <td>0</td>\n",
       "      <td>0</td>\n",
       "      <td>...</td>\n",
       "      <td>0</td>\n",
       "      <td>0</td>\n",
       "      <td>1</td>\n",
       "      <td>0</td>\n",
       "      <td>0</td>\n",
       "      <td>0</td>\n",
       "      <td>0</td>\n",
       "      <td>0</td>\n",
       "      <td>0</td>\n",
       "      <td>4</td>\n",
       "    </tr>\n",
       "    <tr>\n",
       "      <th>36755</th>\n",
       "      <td>44.945420</td>\n",
       "      <td>4.847320</td>\n",
       "      <td>16.0</td>\n",
       "      <td>1</td>\n",
       "      <td>1</td>\n",
       "      <td>0</td>\n",
       "      <td>0</td>\n",
       "      <td>0</td>\n",
       "      <td>0</td>\n",
       "      <td>0</td>\n",
       "      <td>...</td>\n",
       "      <td>1</td>\n",
       "      <td>0</td>\n",
       "      <td>0</td>\n",
       "      <td>1</td>\n",
       "      <td>0</td>\n",
       "      <td>0</td>\n",
       "      <td>0</td>\n",
       "      <td>0</td>\n",
       "      <td>0</td>\n",
       "      <td>1</td>\n",
       "    </tr>\n",
       "  </tbody>\n",
       "</table>\n",
       "<p>5 rows × 215 columns</p>\n",
       "</div>"
      ],
      "text/plain": [
       "         latitude  lontitude  hour  No equipment  Belt  Helmet  \\\n",
       "108834  48.770690   2.493790  18.0             1     1       0   \n",
       "73816   47.928100   1.924300  14.0             1     1       0   \n",
       "35605   48.455476  -4.626288  11.0             0     1       0   \n",
       "98227   48.697180   2.552190   8.0             1     0       0   \n",
       "36755   44.945420   4.847320  16.0             1     1       0   \n",
       "\n",
       "        Children device  reflective vest  Airbag (2WD / 3WD)  \\\n",
       "108834                0                0                   0   \n",
       "73816                 0                0                   0   \n",
       "35605                 0                0                   0   \n",
       "98227                 0                0                   0   \n",
       "36755                 0                0                   0   \n",
       "\n",
       "        Gloves (2WD / 3WD)  ...  maneuver_9  motor_-1  motor_0  motor_1  \\\n",
       "108834                   0  ...           0         0        0        1   \n",
       "73816                    0  ...           0         0        0        1   \n",
       "35605                    0  ...           0         0        0        0   \n",
       "98227                    0  ...           0         0        1        0   \n",
       "36755                    0  ...           1         0        0        1   \n",
       "\n",
       "        motor_2  motor_3  motor_4  motor_5  motor_6  injury_level  \n",
       "108834        0        0        0        0        0             4  \n",
       "73816         0        0        0        0        0             4  \n",
       "35605         0        0        0        0        1             1  \n",
       "98227         0        0        0        0        0             4  \n",
       "36755         0        0        0        0        0             1  \n",
       "\n",
       "[5 rows x 215 columns]"
      ]
     },
     "execution_count": 6,
     "metadata": {},
     "output_type": "execute_result"
    }
   ],
   "source": [
    "# Merge X_train, Y_train together\n",
    "X_Y_train = pd.concat([X_train, Y_train], axis=1)\n",
    "X_Y_train.head()"
   ]
  },
  {
   "cell_type": "code",
   "execution_count": 7,
   "id": "db85ef86",
   "metadata": {
    "scrolled": true
   },
   "outputs": [
    {
     "name": "stdout",
     "output_type": "stream",
     "text": [
      "44326 42545 16708 2802\n"
     ]
    }
   ],
   "source": [
    "# Count by injury level\n",
    "injury_1, injury_4, injury_3, injury_2 = X_Y_train['injury_level'].value_counts()\n",
    "print(injury_1, injury_4, injury_3, injury_2)"
   ]
  },
  {
   "cell_type": "code",
   "execution_count": 8,
   "id": "86244adc",
   "metadata": {},
   "outputs": [
    {
     "data": {
      "text/plain": [
       "(2802, 215)"
      ]
     },
     "execution_count": 8,
     "metadata": {},
     "output_type": "execute_result"
    }
   ],
   "source": [
    "injury_1_df = X_Y_train[X_Y_train['injury_level'] == '1']\n",
    "injury_2_df = X_Y_train[X_Y_train['injury_level'] == '2']\n",
    "injury_3_df = X_Y_train[X_Y_train['injury_level'] == '3']\n",
    "injury_4_df = X_Y_train[X_Y_train['injury_level'] == '4']\n",
    "injury_2_df.shape"
   ]
  },
  {
   "cell_type": "code",
   "execution_count": 9,
   "id": "4723bd30",
   "metadata": {},
   "outputs": [
    {
     "data": {
      "text/plain": [
       "(177304, 215)"
      ]
     },
     "execution_count": 9,
     "metadata": {},
     "output_type": "execute_result"
    }
   ],
   "source": [
    "# Oversampling\n",
    "injury_2_df_over = injury_2_df.sample(injury_1,random_state=42, replace = True)\n",
    "injury_4_df_over = injury_4_df.sample(injury_1,random_state=42, replace = True)\n",
    "injury_3_df_over = injury_3_df.sample(injury_1,random_state=42, replace = True)\n",
    "merged_over = pd.concat([injury_1_df, injury_2_df_over, injury_3_df_over, injury_4_df_over], axis=0)\n",
    "merged_over.shape"
   ]
  },
  {
   "cell_type": "code",
   "execution_count": 10,
   "id": "ab578269",
   "metadata": {
    "scrolled": true
   },
   "outputs": [
    {
     "data": {
      "image/png": "[encoded data removed]",
      "text/plain": [
       "<Figure size 432x288 with 1 Axes>"
      ]
     },
     "metadata": {
      "needs_background": "light"
     },
     "output_type": "display_data"
    },
    {
     "name": "stdout",
     "output_type": "stream",
     "text": [
      "Rebalanced training data\n"
     ]
    }
   ],
   "source": [
    "# Show balanced training data\n",
    "X = merged_over[features]\n",
    "Y = merged_over['injury_level']\n",
    "ticks = [0, 1, 2, 3]\n",
    "labels = ['Slightly Injured', 'Unharmed', 'Injured hospitalized', 'Killed']\n",
    "plt.xticks(ticks, labels)\n",
    "plt.hist(Y)\n",
    "plt.xticks()\n",
    "plt.show()\n",
    "print('Rebalanced training data')"
   ]
  },
  {
   "cell_type": "markdown",
   "id": "f57e0750",
   "metadata": {},
   "source": [
    "# Tree - random forest"
   ]
  },
  {
   "cell_type": "markdown",
   "id": "f77d6b7d",
   "metadata": {},
   "source": [
    "**Fit initial random forest**\n",
    "\n",
    "Rebalanced data"
   ]
  },
  {
   "cell_type": "code",
   "execution_count": 11,
   "id": "d685b906",
   "metadata": {},
   "outputs": [
    {
     "data": {
      "text/plain": [
       "0.7083878450545443"
      ]
     },
     "execution_count": 11,
     "metadata": {},
     "output_type": "execute_result"
    }
   ],
   "source": [
    "random_forest = RandomForestClassifier(n_estimators=250,random_state=42, max_depth = 13, max_features = 13\n",
    "                                      ).fit(merged_over[features], merged_over['injury_level']) \n",
    "#, max_depth = 30, max_features = 50\n",
    "# Validate on rebalanced data  - find the hyperparameter that won't overfit\n",
    "cross_val_score(random_forest, merged_over[features], merged_over['injury_level'], scoring=\"accuracy\", cv=3).mean()"
   ]
  },
  {
   "cell_type": "markdown",
   "id": "51394b36",
   "metadata": {},
   "source": [
    "**Find most important features**\n",
    "\n",
    "Rebalanced data"
   ]
  },
  {
   "cell_type": "code",
   "execution_count": 12,
   "id": "224516ee",
   "metadata": {},
   "outputs": [],
   "source": [
    "# Fit model with fewer features\n",
    "feature_importance_rf = random_forest.feature_importances_\n",
    "#list(feature_importance_rf)"
   ]
  },
  {
   "cell_type": "code",
   "execution_count": 13,
   "id": "8bed1046",
   "metadata": {},
   "outputs": [],
   "source": [
    "feature_importance_dict = {}\n",
    "feature_list = list(features)\n",
    "for i in range(len(feature_list)):\n",
    "    feature_importance_dict[feature_list[i]] = list(feature_importance_rf)[i]\n",
    "#feature_importance_dict"
   ]
  },
  {
   "cell_type": "code",
   "execution_count": 14,
   "id": "92106627",
   "metadata": {},
   "outputs": [],
   "source": [
    "feature_importance_sorted = dict(sorted(feature_importance_dict.items(), key=lambda item: item[1],reverse=True))"
   ]
  },
  {
   "cell_type": "code",
   "execution_count": null,
   "id": "30a36701",
   "metadata": {},
   "outputs": [],
   "source": []
  },
  {
   "cell_type": "code",
   "execution_count": null,
   "id": "9b801a06",
   "metadata": {},
   "outputs": [],
   "source": []
  },
  {
   "cell_type": "markdown",
   "id": "229134a6",
   "metadata": {},
   "source": [
    "**Fit initial random forest**\n",
    "\n",
    "Rebalanced data, top 50 features"
   ]
  },
  {
   "cell_type": "code",
   "execution_count": 15,
   "id": "82dcc0e7",
   "metadata": {},
   "outputs": [
    {
     "data": {
      "text/plain": [
       "0.7486802341086781"
      ]
     },
     "execution_count": 15,
     "metadata": {},
     "output_type": "execute_result"
    }
   ],
   "source": [
    "random_forest = RandomForestClassifier(n_estimators=250,random_state=42, max_depth = 13, max_features = 13\n",
    "                                      ).fit(merged_over[list(feature_importance_sorted.keys())[:50]], merged_over['injury_level'])#merged_over[features], merged_over['injury_level']) \n",
    "#, max_depth = 30, max_features = 50\n",
    "# Validate on rebalanced data  - find the hyperparameter that won't overfit\n",
    "cross_val_score(random_forest, merged_over[list(feature_importance_sorted.keys())[:50]], merged_over['injury_level'], scoring=\"accuracy\", cv=3).mean()"
   ]
  },
  {
   "cell_type": "code",
   "execution_count": 16,
   "id": "18939c33",
   "metadata": {
    "scrolled": true
   },
   "outputs": [
    {
     "name": "stdout",
     "output_type": "stream",
     "text": [
      "The training scroe for rf is 0.7917926273518928\n"
     ]
    }
   ],
   "source": [
    "# Training score on rebalanced data\n",
    "train_score = random_forest.score(merged_over[list(feature_importance_sorted.keys())[:50]], merged_over['injury_level'])\n",
    "print(f'The training scroe for rf is {train_score}')"
   ]
  },
  {
   "cell_type": "code",
   "execution_count": 17,
   "id": "4e8fd330",
   "metadata": {
    "scrolled": true
   },
   "outputs": [
    {
     "name": "stdout",
     "output_type": "stream",
     "text": [
      "The testing scroe for rf is 0.6264475861031734\n"
     ]
    }
   ],
   "source": [
    "# Test on original data\n",
    "print(f'The testing scroe for rf is {random_forest.score(X_test[list(feature_importance_sorted.keys())[:50]], Y_test)}')"
   ]
  },
  {
   "cell_type": "markdown",
   "id": "9fc9c2ef",
   "metadata": {},
   "source": [
    "**Other evaluations on test data**"
   ]
  },
  {
   "cell_type": "code",
   "execution_count": 18,
   "id": "bffc4ca1",
   "metadata": {},
   "outputs": [],
   "source": [
    "from sklearn.metrics import confusion_matrix\n",
    "# Original data Recall and Presicion\n",
    "mat = confusion_matrix(Y_test, random_forest.predict(X_test[list(feature_importance_sorted.keys())[:50]]))\n",
    "\n",
    "FP = mat.sum(axis=0) - np.diag(mat)  \n",
    "FN = mat.sum(axis=1) - np.diag(mat)\n",
    "TP = np.diag(mat)\n",
    "TN = mat.sum() - (FP + FN + TP)\n",
    "\n",
    "#Recall, or true positive rate\n",
    "TPR = TP/(TP+FN) \n",
    "# Precision or positive predictive value\n",
    "PPV = TP/(TP+FP)"
   ]
  },
  {
   "cell_type": "code",
   "execution_count": 19,
   "id": "31fa50bf",
   "metadata": {
    "scrolled": true
   },
   "outputs": [
    {
     "name": "stdout",
     "output_type": "stream",
     "text": [
      "[4 1 3 2]\n",
      "4 - Slightly Injured 1 - Unharmed 3 - Injured hospitalized 2 - Killed\n",
      "Precision: [0.72956294 0.18776671 0.40843604 0.71236842]\n",
      "Recall: [0.78540226 0.37931034 0.56698795 0.50306634]\n"
     ]
    }
   ],
   "source": [
    "print(merged['injury_level'].unique())\n",
    "print('4 - Slightly Injured', '1 - Unharmed', '3 - Injured hospitalized', '2 - Killed')\n",
    "print(f'Precision: {PPV}')\n",
    "print(f'Recall: {TPR}')"
   ]
  },
  {
   "cell_type": "code",
   "execution_count": 20,
   "id": "192dc745",
   "metadata": {},
   "outputs": [
    {
     "data": {
      "image/png": "[encoded data removed]",
      "text/plain": [
       "<Figure size 432x288 with 2 Axes>"
      ]
     },
     "metadata": {
      "needs_background": "light"
     },
     "output_type": "display_data"
    }
   ],
   "source": [
    "from sklearn.metrics import plot_confusion_matrix\n",
    "plot_confusion_matrix(random_forest, X_test[list(feature_importance_sorted.keys())[:50]], Y_test)  \n",
    "ticks = [0, 1, 2, 3]\n",
    "labels = ['Unharmed', 'Killed', 'Injured hospitalized', 'Slightly Injured']\n",
    "plt.xticks(ticks, labels, rotation = 20)\n",
    "plt.yticks(ticks, labels)\n",
    "plt.show()"
   ]
  },
  {
   "cell_type": "code",
   "execution_count": 21,
   "id": "471d2506",
   "metadata": {},
   "outputs": [
    {
     "name": "stdout",
     "output_type": "stream",
     "text": [
      "\n",
      "Logistic Regression\n",
      "{'4': 0.6825044997958635, '2': 0.6676088403674612, '3': 0.7075784452968248, '1': 0.7902216308103318}\n"
     ]
    }
   ],
   "source": [
    "# Area under ROC\n",
    "\n",
    "def roc_auc_score_multiclass(actual_class, pred_class, average = \"macro\"):\n",
    "    #creating a set of all the unique classes using the actual class list\n",
    "    unique_class = set(actual_class)\n",
    "    roc_auc_dict = {}\n",
    "\n",
    "    for per_class in unique_class:\n",
    "        \n",
    "        #creating a list of all the classes except the current class \n",
    "        other_class = [x for x in unique_class if x != per_class]\n",
    "\n",
    "        #marking the current class as 1 and all other classes as 0\n",
    "        new_actual_class = [0 if x in other_class else 1 for x in actual_class]\n",
    "        new_pred_class = [0 if x in other_class else 1 for x in pred_class]\n",
    "\n",
    "        #using the sklearn metrics method to calculate the roc_auc_score\n",
    "        roc_auc = roc_auc_score(new_actual_class, new_pred_class, average = average)\n",
    "        roc_auc_dict[per_class] = roc_auc\n",
    "\n",
    "\n",
    "    return roc_auc_dict\n",
    "\n",
    "print(\"\\nLogistic Regression\")\n",
    "# assuming your already have a list of actual_class and predicted_class from the logistic regression classifier\n",
    "lr_roc_auc_multiclass = roc_auc_score_multiclass(Y_test, random_forest.predict(X_test[list(feature_importance_sorted.keys())[:50]]))\n",
    "print(lr_roc_auc_multiclass)"
   ]
  },
  {
   "cell_type": "code",
   "execution_count": null,
   "id": "dea3ebb8",
   "metadata": {},
   "outputs": [],
   "source": []
  },
  {
   "cell_type": "markdown",
   "id": "c9d70df6",
   "metadata": {},
   "source": [
    "**Fairness on gender**"
   ]
  },
  {
   "cell_type": "code",
   "execution_count": 23,
   "id": "7acac55c",
   "metadata": {},
   "outputs": [
    {
     "data": {
      "text/html": [
       "<div>\n",
       "<style scoped>\n",
       "    .dataframe tbody tr th:only-of-type {\n",
       "        vertical-align: middle;\n",
       "    }\n",
       "\n",
       "    .dataframe tbody tr th {\n",
       "        vertical-align: top;\n",
       "    }\n",
       "\n",
       "    .dataframe thead th {\n",
       "        text-align: right;\n",
       "    }\n",
       "</style>\n",
       "<table border=\"1\" class=\"dataframe\">\n",
       "  <thead>\n",
       "    <tr style=\"text-align: right;\">\n",
       "      <th></th>\n",
       "      <th>latitude</th>\n",
       "      <th>lontitude</th>\n",
       "      <th>hour</th>\n",
       "      <th>No equipment</th>\n",
       "      <th>Belt</th>\n",
       "      <th>Helmet</th>\n",
       "      <th>Children device</th>\n",
       "      <th>reflective vest</th>\n",
       "      <th>Airbag (2WD / 3WD)</th>\n",
       "      <th>Gloves (2WD / 3WD)</th>\n",
       "      <th>...</th>\n",
       "      <th>maneuver_9</th>\n",
       "      <th>motor_-1</th>\n",
       "      <th>motor_0</th>\n",
       "      <th>motor_1</th>\n",
       "      <th>motor_2</th>\n",
       "      <th>motor_3</th>\n",
       "      <th>motor_4</th>\n",
       "      <th>motor_5</th>\n",
       "      <th>motor_6</th>\n",
       "      <th>injury_level</th>\n",
       "    </tr>\n",
       "  </thead>\n",
       "  <tbody>\n",
       "    <tr>\n",
       "      <th>27876</th>\n",
       "      <td>48.052962</td>\n",
       "      <td>1.842344</td>\n",
       "      <td>8.0</td>\n",
       "      <td>0</td>\n",
       "      <td>1</td>\n",
       "      <td>0</td>\n",
       "      <td>0</td>\n",
       "      <td>0</td>\n",
       "      <td>0</td>\n",
       "      <td>0</td>\n",
       "      <td>...</td>\n",
       "      <td>0</td>\n",
       "      <td>0</td>\n",
       "      <td>0</td>\n",
       "      <td>1</td>\n",
       "      <td>0</td>\n",
       "      <td>0</td>\n",
       "      <td>0</td>\n",
       "      <td>0</td>\n",
       "      <td>0</td>\n",
       "      <td>3</td>\n",
       "    </tr>\n",
       "    <tr>\n",
       "      <th>91572</th>\n",
       "      <td>44.943290</td>\n",
       "      <td>-0.204690</td>\n",
       "      <td>14.0</td>\n",
       "      <td>0</td>\n",
       "      <td>1</td>\n",
       "      <td>0</td>\n",
       "      <td>0</td>\n",
       "      <td>0</td>\n",
       "      <td>0</td>\n",
       "      <td>0</td>\n",
       "      <td>...</td>\n",
       "      <td>0</td>\n",
       "      <td>0</td>\n",
       "      <td>0</td>\n",
       "      <td>1</td>\n",
       "      <td>0</td>\n",
       "      <td>0</td>\n",
       "      <td>0</td>\n",
       "      <td>0</td>\n",
       "      <td>0</td>\n",
       "      <td>3</td>\n",
       "    </tr>\n",
       "    <tr>\n",
       "      <th>69335</th>\n",
       "      <td>48.849137</td>\n",
       "      <td>2.397031</td>\n",
       "      <td>11.0</td>\n",
       "      <td>1</td>\n",
       "      <td>1</td>\n",
       "      <td>0</td>\n",
       "      <td>0</td>\n",
       "      <td>0</td>\n",
       "      <td>0</td>\n",
       "      <td>0</td>\n",
       "      <td>...</td>\n",
       "      <td>0</td>\n",
       "      <td>0</td>\n",
       "      <td>0</td>\n",
       "      <td>1</td>\n",
       "      <td>0</td>\n",
       "      <td>0</td>\n",
       "      <td>0</td>\n",
       "      <td>0</td>\n",
       "      <td>0</td>\n",
       "      <td>1</td>\n",
       "    </tr>\n",
       "    <tr>\n",
       "      <th>63415</th>\n",
       "      <td>43.511060</td>\n",
       "      <td>5.383580</td>\n",
       "      <td>21.0</td>\n",
       "      <td>1</td>\n",
       "      <td>1</td>\n",
       "      <td>0</td>\n",
       "      <td>0</td>\n",
       "      <td>0</td>\n",
       "      <td>0</td>\n",
       "      <td>0</td>\n",
       "      <td>...</td>\n",
       "      <td>0</td>\n",
       "      <td>0</td>\n",
       "      <td>0</td>\n",
       "      <td>1</td>\n",
       "      <td>0</td>\n",
       "      <td>0</td>\n",
       "      <td>0</td>\n",
       "      <td>0</td>\n",
       "      <td>0</td>\n",
       "      <td>4</td>\n",
       "    </tr>\n",
       "    <tr>\n",
       "      <th>72430</th>\n",
       "      <td>47.491740</td>\n",
       "      <td>-0.557050</td>\n",
       "      <td>17.0</td>\n",
       "      <td>0</td>\n",
       "      <td>0</td>\n",
       "      <td>1</td>\n",
       "      <td>0</td>\n",
       "      <td>0</td>\n",
       "      <td>0</td>\n",
       "      <td>0</td>\n",
       "      <td>...</td>\n",
       "      <td>0</td>\n",
       "      <td>0</td>\n",
       "      <td>0</td>\n",
       "      <td>1</td>\n",
       "      <td>0</td>\n",
       "      <td>0</td>\n",
       "      <td>0</td>\n",
       "      <td>0</td>\n",
       "      <td>0</td>\n",
       "      <td>3</td>\n",
       "    </tr>\n",
       "  </tbody>\n",
       "</table>\n",
       "<p>5 rows × 215 columns</p>\n",
       "</div>"
      ],
      "text/plain": [
       "        latitude  lontitude  hour  No equipment  Belt  Helmet  \\\n",
       "27876  48.052962   1.842344   8.0             0     1       0   \n",
       "91572  44.943290  -0.204690  14.0             0     1       0   \n",
       "69335  48.849137   2.397031  11.0             1     1       0   \n",
       "63415  43.511060   5.383580  21.0             1     1       0   \n",
       "72430  47.491740  -0.557050  17.0             0     0       1   \n",
       "\n",
       "       Children device  reflective vest  Airbag (2WD / 3WD)  \\\n",
       "27876                0                0                   0   \n",
       "91572                0                0                   0   \n",
       "69335                0                0                   0   \n",
       "63415                0                0                   0   \n",
       "72430                0                0                   0   \n",
       "\n",
       "       Gloves (2WD / 3WD)  ...  maneuver_9  motor_-1  motor_0  motor_1  \\\n",
       "27876                   0  ...           0         0        0        1   \n",
       "91572                   0  ...           0         0        0        1   \n",
       "69335                   0  ...           0         0        0        1   \n",
       "63415                   0  ...           0         0        0        1   \n",
       "72430                   0  ...           0         0        0        1   \n",
       "\n",
       "       motor_2  motor_3  motor_4  motor_5  motor_6  injury_level  \n",
       "27876        0        0        0        0        0             3  \n",
       "91572        0        0        0        0        0             3  \n",
       "69335        0        0        0        0        0             1  \n",
       "63415        0        0        0        0        0             4  \n",
       "72430        0        0        0        0        0             3  \n",
       "\n",
       "[5 rows x 215 columns]"
      ]
     },
     "execution_count": 23,
     "metadata": {},
     "output_type": "execute_result"
    }
   ],
   "source": [
    "X_Y_test = pd.concat([X_test, Y_test], axis=1)\n",
    "X_Y_test.head()"
   ]
  },
  {
   "cell_type": "code",
   "execution_count": 28,
   "id": "efd6ded8",
   "metadata": {},
   "outputs": [
    {
     "data": {
      "text/plain": [
       "(18046, 215)"
      ]
     },
     "execution_count": 28,
     "metadata": {},
     "output_type": "execute_result"
    }
   ],
   "source": [
    "X_Y_test_M = X_Y_test.loc[X_Y_test['sex_1'] == 1, :]\n",
    "X_Y_test_M.shape"
   ]
  },
  {
   "cell_type": "code",
   "execution_count": 29,
   "id": "9473f10d",
   "metadata": {},
   "outputs": [
    {
     "data": {
      "text/plain": [
       "(8550, 215)"
      ]
     },
     "execution_count": 29,
     "metadata": {},
     "output_type": "execute_result"
    }
   ],
   "source": [
    "X_Y_test_F = X_Y_test.loc[X_Y_test['sex_2'] == 1, :]\n",
    "X_Y_test_F.shape"
   ]
  },
  {
   "cell_type": "code",
   "execution_count": 33,
   "id": "9f608a7d",
   "metadata": {},
   "outputs": [
    {
     "data": {
      "text/plain": [
       "(18046, 214)"
      ]
     },
     "execution_count": 33,
     "metadata": {},
     "output_type": "execute_result"
    }
   ],
   "source": [
    "X_test_M = X_Y_test_M[features]\n",
    "Y_test_M = X_Y_test_M['injury_level']\n",
    "X_test_M.shape"
   ]
  },
  {
   "cell_type": "code",
   "execution_count": 38,
   "id": "9e8bf1f4",
   "metadata": {},
   "outputs": [
    {
     "data": {
      "text/plain": [
       "(8550, 214)"
      ]
     },
     "execution_count": 38,
     "metadata": {},
     "output_type": "execute_result"
    }
   ],
   "source": [
    "X_test_F = X_Y_test_F[features]\n",
    "Y_test_F = X_Y_test_F['injury_level']\n",
    "X_test_F.shape"
   ]
  },
  {
   "cell_type": "code",
   "execution_count": 36,
   "id": "c560a66a",
   "metadata": {},
   "outputs": [
    {
     "data": {
      "image/png": "[encoded data removed]",
      "text/plain": [
       "<Figure size 432x288 with 2 Axes>"
      ]
     },
     "metadata": {
      "needs_background": "light"
     },
     "output_type": "display_data"
    }
   ],
   "source": [
    "# Plot Confusion Matrix for Male\n",
    "plot_confusion_matrix(random_forest, X_test_M[list(feature_importance_sorted.keys())[:50]], Y_test_M)  \n",
    "ticks = [0, 1, 2, 3]\n",
    "labels = ['Unharmed', 'Killed', 'Injured hospitalized', 'Slightly Injured']\n",
    "plt.xticks(ticks, labels, rotation = 20)\n",
    "plt.yticks(ticks, labels)\n",
    "plt.title('Confusion Matrix for Male')\n",
    "plt.show()"
   ]
  },
  {
   "cell_type": "code",
   "execution_count": 39,
   "id": "b0d458d4",
   "metadata": {},
   "outputs": [
    {
     "data": {
      "image/png": "[encoded data removed]",
      "text/plain": [
       "<Figure size 432x288 with 2 Axes>"
      ]
     },
     "metadata": {
      "needs_background": "light"
     },
     "output_type": "display_data"
    }
   ],
   "source": [
    "# Plot Confusion Matrix for Female\n",
    "plot_confusion_matrix(random_forest, X_test_F[list(feature_importance_sorted.keys())[:50]], Y_test_F)  \n",
    "ticks = [0, 1, 2, 3]\n",
    "labels = ['Unharmed', 'Killed', 'Injured hospitalized', 'Slightly Injured']\n",
    "plt.xticks(ticks, labels, rotation = 20)\n",
    "plt.yticks(ticks, labels)\n",
    "plt.title('Confusion Matrix for Female')\n",
    "plt.show()"
   ]
  },
  {
   "cell_type": "code",
   "execution_count": 40,
   "id": "70ceebec",
   "metadata": {},
   "outputs": [
    {
     "name": "stdout",
     "output_type": "stream",
     "text": [
      "The testing scroe for rf for male is 0.6363182976836972\n",
      "The testing scroe for rf for female is 0.6056140350877193\n"
     ]
    }
   ],
   "source": [
    "# Test on original data\n",
    "print(f'The testing scroe for rf for male is {random_forest.score(X_test_M[list(feature_importance_sorted.keys())[:50]], Y_test_M)}')\n",
    "print(f'The testing scroe for rf for female is {random_forest.score(X_test_F[list(feature_importance_sorted.keys())[:50]], Y_test_F)}')"
   ]
  },
  {
   "cell_type": "code",
   "execution_count": null,
   "id": "41ea0b9a",
   "metadata": {},
   "outputs": [],
   "source": []
  }
 ],
 "metadata": {
  "kernelspec": {
   "display_name": "Python 3",
   "language": "python",
   "name": "python3"
  },
  "language_info": {
   "codemirror_mode": {
    "name": "ipython",
    "version": 3
   },
   "file_extension": ".py",
   "mimetype": "text/x-python",
   "name": "python",
   "nbconvert_exporter": "python",
   "pygments_lexer": "ipython3",
   "version": "3.8.8"
  }
 },
 "nbformat": 4,
 "nbformat_minor": 5
}
