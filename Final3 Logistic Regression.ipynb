{
 "cells": [
  {
   "cell_type": "code",
   "execution_count": 1,
   "metadata": {},
   "outputs": [],
   "source": [
    "import pandas as pd\n",
    "from sklearn.tree import DecisionTreeClassifier\n",
    "from sklearn.ensemble import RandomForestClassifier, AdaBoostClassifier\n",
    "from sklearn.svm import SVC\n",
    "from sklearn.neighbors import KNeighborsClassifier\n",
    "from sklearn.pipeline import make_pipeline\n",
    "from sklearn.preprocessing import StandardScaler, RobustScaler, MinMaxScaler\n",
    "from sklearn.linear_model import LogisticRegression\n",
    "from sklearn.decomposition import PCA\n",
    "\n",
    "from sklearn.metrics import f1_score, accuracy_score, confusion_matrix, classification_report, roc_curve\n"
   ]
  },
  {
   "cell_type": "code",
   "execution_count": 2,
   "metadata": {},
   "outputs": [],
   "source": [
    "data = pd.read_csv('Merge_AllFeatures.csv')"
   ]
  },
  {
   "cell_type": "code",
   "execution_count": 4,
   "metadata": {},
   "outputs": [
    {
     "data": {
      "text/html": [
       "<div>\n",
       "<style scoped>\n",
       "    .dataframe tbody tr th:only-of-type {\n",
       "        vertical-align: middle;\n",
       "    }\n",
       "\n",
       "    .dataframe tbody tr th {\n",
       "        vertical-align: top;\n",
       "    }\n",
       "\n",
       "    .dataframe thead th {\n",
       "        text-align: right;\n",
       "    }\n",
       "</style>\n",
       "<table border=\"1\" class=\"dataframe\">\n",
       "  <thead>\n",
       "    <tr style=\"text-align: right;\">\n",
       "      <th></th>\n",
       "      <th>latitude</th>\n",
       "      <th>lontitude</th>\n",
       "      <th>hour</th>\n",
       "      <th>injury_level</th>\n",
       "      <th>No equipment</th>\n",
       "      <th>Belt</th>\n",
       "      <th>Helmet</th>\n",
       "      <th>Children device</th>\n",
       "      <th>reflective vest</th>\n",
       "      <th>Airbag (2WD / 3WD)</th>\n",
       "      <th>...</th>\n",
       "      <th>maneuver_8</th>\n",
       "      <th>maneuver_9</th>\n",
       "      <th>motor_-1</th>\n",
       "      <th>motor_0</th>\n",
       "      <th>motor_1</th>\n",
       "      <th>motor_2</th>\n",
       "      <th>motor_3</th>\n",
       "      <th>motor_4</th>\n",
       "      <th>motor_5</th>\n",
       "      <th>motor_6</th>\n",
       "    </tr>\n",
       "  </thead>\n",
       "  <tbody>\n",
       "    <tr>\n",
       "      <th>0</th>\n",
       "      <td>48.896210</td>\n",
       "      <td>2.470120</td>\n",
       "      <td>1</td>\n",
       "      <td>4</td>\n",
       "      <td>1</td>\n",
       "      <td>1</td>\n",
       "      <td>0</td>\n",
       "      <td>0</td>\n",
       "      <td>0</td>\n",
       "      <td>0</td>\n",
       "      <td>...</td>\n",
       "      <td>0</td>\n",
       "      <td>0</td>\n",
       "      <td>0</td>\n",
       "      <td>0</td>\n",
       "      <td>1</td>\n",
       "      <td>0</td>\n",
       "      <td>0</td>\n",
       "      <td>0</td>\n",
       "      <td>0</td>\n",
       "      <td>0</td>\n",
       "    </tr>\n",
       "    <tr>\n",
       "      <th>1</th>\n",
       "      <td>48.896210</td>\n",
       "      <td>2.470120</td>\n",
       "      <td>1</td>\n",
       "      <td>4</td>\n",
       "      <td>1</td>\n",
       "      <td>1</td>\n",
       "      <td>0</td>\n",
       "      <td>0</td>\n",
       "      <td>0</td>\n",
       "      <td>0</td>\n",
       "      <td>...</td>\n",
       "      <td>0</td>\n",
       "      <td>0</td>\n",
       "      <td>0</td>\n",
       "      <td>0</td>\n",
       "      <td>1</td>\n",
       "      <td>0</td>\n",
       "      <td>0</td>\n",
       "      <td>0</td>\n",
       "      <td>0</td>\n",
       "      <td>0</td>\n",
       "    </tr>\n",
       "    <tr>\n",
       "      <th>2</th>\n",
       "      <td>48.896210</td>\n",
       "      <td>2.470120</td>\n",
       "      <td>1</td>\n",
       "      <td>1</td>\n",
       "      <td>1</td>\n",
       "      <td>1</td>\n",
       "      <td>0</td>\n",
       "      <td>0</td>\n",
       "      <td>0</td>\n",
       "      <td>0</td>\n",
       "      <td>...</td>\n",
       "      <td>0</td>\n",
       "      <td>0</td>\n",
       "      <td>0</td>\n",
       "      <td>0</td>\n",
       "      <td>1</td>\n",
       "      <td>0</td>\n",
       "      <td>0</td>\n",
       "      <td>0</td>\n",
       "      <td>0</td>\n",
       "      <td>0</td>\n",
       "    </tr>\n",
       "    <tr>\n",
       "      <th>3</th>\n",
       "      <td>48.930700</td>\n",
       "      <td>2.368800</td>\n",
       "      <td>2</td>\n",
       "      <td>4</td>\n",
       "      <td>1</td>\n",
       "      <td>1</td>\n",
       "      <td>0</td>\n",
       "      <td>0</td>\n",
       "      <td>0</td>\n",
       "      <td>0</td>\n",
       "      <td>...</td>\n",
       "      <td>0</td>\n",
       "      <td>0</td>\n",
       "      <td>0</td>\n",
       "      <td>0</td>\n",
       "      <td>1</td>\n",
       "      <td>0</td>\n",
       "      <td>0</td>\n",
       "      <td>0</td>\n",
       "      <td>0</td>\n",
       "      <td>0</td>\n",
       "    </tr>\n",
       "    <tr>\n",
       "      <th>4</th>\n",
       "      <td>48.935872</td>\n",
       "      <td>2.319174</td>\n",
       "      <td>15</td>\n",
       "      <td>1</td>\n",
       "      <td>1</td>\n",
       "      <td>1</td>\n",
       "      <td>0</td>\n",
       "      <td>0</td>\n",
       "      <td>0</td>\n",
       "      <td>0</td>\n",
       "      <td>...</td>\n",
       "      <td>0</td>\n",
       "      <td>0</td>\n",
       "      <td>0</td>\n",
       "      <td>0</td>\n",
       "      <td>1</td>\n",
       "      <td>0</td>\n",
       "      <td>0</td>\n",
       "      <td>0</td>\n",
       "      <td>0</td>\n",
       "      <td>0</td>\n",
       "    </tr>\n",
       "    <tr>\n",
       "      <th>...</th>\n",
       "      <td>...</td>\n",
       "      <td>...</td>\n",
       "      <td>...</td>\n",
       "      <td>...</td>\n",
       "      <td>...</td>\n",
       "      <td>...</td>\n",
       "      <td>...</td>\n",
       "      <td>...</td>\n",
       "      <td>...</td>\n",
       "      <td>...</td>\n",
       "      <td>...</td>\n",
       "      <td>...</td>\n",
       "      <td>...</td>\n",
       "      <td>...</td>\n",
       "      <td>...</td>\n",
       "      <td>...</td>\n",
       "      <td>...</td>\n",
       "      <td>...</td>\n",
       "      <td>...</td>\n",
       "      <td>...</td>\n",
       "      <td>...</td>\n",
       "    </tr>\n",
       "    <tr>\n",
       "      <th>132972</th>\n",
       "      <td>48.576900</td>\n",
       "      <td>7.726900</td>\n",
       "      <td>7</td>\n",
       "      <td>4</td>\n",
       "      <td>1</td>\n",
       "      <td>1</td>\n",
       "      <td>0</td>\n",
       "      <td>0</td>\n",
       "      <td>0</td>\n",
       "      <td>0</td>\n",
       "      <td>...</td>\n",
       "      <td>0</td>\n",
       "      <td>0</td>\n",
       "      <td>0</td>\n",
       "      <td>0</td>\n",
       "      <td>1</td>\n",
       "      <td>0</td>\n",
       "      <td>0</td>\n",
       "      <td>0</td>\n",
       "      <td>0</td>\n",
       "      <td>0</td>\n",
       "    </tr>\n",
       "    <tr>\n",
       "      <th>132973</th>\n",
       "      <td>48.771700</td>\n",
       "      <td>2.345760</td>\n",
       "      <td>2</td>\n",
       "      <td>4</td>\n",
       "      <td>1</td>\n",
       "      <td>1</td>\n",
       "      <td>0</td>\n",
       "      <td>0</td>\n",
       "      <td>0</td>\n",
       "      <td>0</td>\n",
       "      <td>...</td>\n",
       "      <td>0</td>\n",
       "      <td>0</td>\n",
       "      <td>0</td>\n",
       "      <td>1</td>\n",
       "      <td>0</td>\n",
       "      <td>0</td>\n",
       "      <td>0</td>\n",
       "      <td>0</td>\n",
       "      <td>0</td>\n",
       "      <td>0</td>\n",
       "    </tr>\n",
       "    <tr>\n",
       "      <th>132974</th>\n",
       "      <td>48.777289</td>\n",
       "      <td>2.223759</td>\n",
       "      <td>15</td>\n",
       "      <td>3</td>\n",
       "      <td>1</td>\n",
       "      <td>0</td>\n",
       "      <td>1</td>\n",
       "      <td>0</td>\n",
       "      <td>0</td>\n",
       "      <td>0</td>\n",
       "      <td>...</td>\n",
       "      <td>0</td>\n",
       "      <td>0</td>\n",
       "      <td>0</td>\n",
       "      <td>0</td>\n",
       "      <td>1</td>\n",
       "      <td>0</td>\n",
       "      <td>0</td>\n",
       "      <td>0</td>\n",
       "      <td>0</td>\n",
       "      <td>0</td>\n",
       "    </tr>\n",
       "    <tr>\n",
       "      <th>132975</th>\n",
       "      <td>48.835124</td>\n",
       "      <td>2.175110</td>\n",
       "      <td>20</td>\n",
       "      <td>4</td>\n",
       "      <td>1</td>\n",
       "      <td>1</td>\n",
       "      <td>0</td>\n",
       "      <td>0</td>\n",
       "      <td>0</td>\n",
       "      <td>0</td>\n",
       "      <td>...</td>\n",
       "      <td>0</td>\n",
       "      <td>0</td>\n",
       "      <td>0</td>\n",
       "      <td>0</td>\n",
       "      <td>0</td>\n",
       "      <td>1</td>\n",
       "      <td>0</td>\n",
       "      <td>0</td>\n",
       "      <td>0</td>\n",
       "      <td>0</td>\n",
       "    </tr>\n",
       "    <tr>\n",
       "      <th>132976</th>\n",
       "      <td>48.835124</td>\n",
       "      <td>2.175110</td>\n",
       "      <td>20</td>\n",
       "      <td>1</td>\n",
       "      <td>0</td>\n",
       "      <td>1</td>\n",
       "      <td>0</td>\n",
       "      <td>0</td>\n",
       "      <td>0</td>\n",
       "      <td>0</td>\n",
       "      <td>...</td>\n",
       "      <td>0</td>\n",
       "      <td>0</td>\n",
       "      <td>0</td>\n",
       "      <td>0</td>\n",
       "      <td>1</td>\n",
       "      <td>0</td>\n",
       "      <td>0</td>\n",
       "      <td>0</td>\n",
       "      <td>0</td>\n",
       "      <td>0</td>\n",
       "    </tr>\n",
       "  </tbody>\n",
       "</table>\n",
       "<p>132977 rows × 215 columns</p>\n",
       "</div>"
      ],
      "text/plain": [
       "         latitude  lontitude  hour  injury_level  No equipment  Belt  Helmet  \\\n",
       "0       48.896210   2.470120     1             4             1     1       0   \n",
       "1       48.896210   2.470120     1             4             1     1       0   \n",
       "2       48.896210   2.470120     1             1             1     1       0   \n",
       "3       48.930700   2.368800     2             4             1     1       0   \n",
       "4       48.935872   2.319174    15             1             1     1       0   \n",
       "...           ...        ...   ...           ...           ...   ...     ...   \n",
       "132972  48.576900   7.726900     7             4             1     1       0   \n",
       "132973  48.771700   2.345760     2             4             1     1       0   \n",
       "132974  48.777289   2.223759    15             3             1     0       1   \n",
       "132975  48.835124   2.175110    20             4             1     1       0   \n",
       "132976  48.835124   2.175110    20             1             0     1       0   \n",
       "\n",
       "        Children device  reflective vest  Airbag (2WD / 3WD)  ...  maneuver_8  \\\n",
       "0                     0                0                   0  ...           0   \n",
       "1                     0                0                   0  ...           0   \n",
       "2                     0                0                   0  ...           0   \n",
       "3                     0                0                   0  ...           0   \n",
       "4                     0                0                   0  ...           0   \n",
       "...                 ...              ...                 ...  ...         ...   \n",
       "132972                0                0                   0  ...           0   \n",
       "132973                0                0                   0  ...           0   \n",
       "132974                0                0                   0  ...           0   \n",
       "132975                0                0                   0  ...           0   \n",
       "132976                0                0                   0  ...           0   \n",
       "\n",
       "        maneuver_9  motor_-1  motor_0  motor_1  motor_2  motor_3  motor_4  \\\n",
       "0                0         0        0        1        0        0        0   \n",
       "1                0         0        0        1        0        0        0   \n",
       "2                0         0        0        1        0        0        0   \n",
       "3                0         0        0        1        0        0        0   \n",
       "4                0         0        0        1        0        0        0   \n",
       "...            ...       ...      ...      ...      ...      ...      ...   \n",
       "132972           0         0        0        1        0        0        0   \n",
       "132973           0         0        1        0        0        0        0   \n",
       "132974           0         0        0        1        0        0        0   \n",
       "132975           0         0        0        0        1        0        0   \n",
       "132976           0         0        0        1        0        0        0   \n",
       "\n",
       "        motor_5  motor_6  \n",
       "0             0        0  \n",
       "1             0        0  \n",
       "2             0        0  \n",
       "3             0        0  \n",
       "4             0        0  \n",
       "...         ...      ...  \n",
       "132972        0        0  \n",
       "132973        0        0  \n",
       "132974        0        0  \n",
       "132975        0        0  \n",
       "132976        0        0  \n",
       "\n",
       "[132977 rows x 215 columns]"
      ]
     },
     "execution_count": 4,
     "metadata": {},
     "output_type": "execute_result"
    }
   ],
   "source": [
    "data"
   ]
  },
  {
   "cell_type": "code",
   "execution_count": 6,
   "metadata": {},
   "outputs": [],
   "source": [
    "# change y order\n",
    "level4 = data['injury_level']==2, ['injury_level']\n",
    "level2 = data['injury_level']==4, ['injury_level']\n",
    "data.loc[level4]=4\n",
    "data.loc[level2]=2\n",
    "\n",
    "# normalize numeric values\n",
    "import numpy as np\n",
    "normalized_lat = data['latitude']/np.linalg.norm(data['latitude'])\n",
    "normalized_lon = data['lontitude']/np.linalg.norm(data['lontitude'])\n",
    "normalized_hr = data['hour']/np.linalg.norm(data['hour'])\n",
    "data['latitude'] = normalized_lat\n",
    "data['lontitude'] = normalized_lon\n",
    "data['hour'] = normalized_hr\n",
    "\n",
    "\n",
    "from sklearn.model_selection import train_test_split\n",
    "train, test = train_test_split(data, test_size=0.2, random_state=1)\n",
    "\n",
    "\n"
   ]
  },
  {
   "cell_type": "markdown",
   "metadata": {},
   "source": [
    "## Resampling"
   ]
  },
  {
   "cell_type": "code",
   "execution_count": 7,
   "metadata": {},
   "outputs": [],
   "source": [
    "df_class_1 = train[train['injury_level'] == 1]\n",
    "df_class_2 = train[train['injury_level'] == 2]\n",
    "df_class_3 = train[train['injury_level'] == 3]\n",
    "df_class_4 = train[train['injury_level'] == 4]"
   ]
  },
  {
   "cell_type": "code",
   "execution_count": 8,
   "metadata": {},
   "outputs": [],
   "source": [
    "count_class_1, count_class_2, count_class_3, count_class_4 = train['injury_level'].value_counts()"
   ]
  },
  {
   "cell_type": "code",
   "execution_count": 9,
   "metadata": {},
   "outputs": [
    {
     "data": {
      "text/plain": [
       "1    44232\n",
       "4    42627\n",
       "3    16737\n",
       "2     2785\n",
       "Name: injury_level, dtype: int64"
      ]
     },
     "execution_count": 9,
     "metadata": {},
     "output_type": "execute_result"
    }
   ],
   "source": [
    "train['injury_level'].value_counts()"
   ]
  },
  {
   "cell_type": "code",
   "execution_count": 10,
   "metadata": {},
   "outputs": [],
   "source": [
    "df_class_2_over = df_class_2.sample(count_class_1, replace=True, random_state=42)\n",
    "df_class_3_over = df_class_3.sample(count_class_1, replace=True, random_state=42)\n",
    "df_class_4_over = df_class_4.sample(count_class_1, replace=True, random_state=42)\n",
    "train = pd.concat([df_class_1, df_class_2_over, df_class_3_over, df_class_4_over], axis=0)\n",
    "\n",
    "X_train = train.iloc[:, train.columns!='injury_level']\n",
    "y_train = train['injury_level']\n",
    "X_test = test.iloc[:, train.columns!='injury_level']\n",
    "y_test = test['injury_level']"
   ]
  },
  {
   "cell_type": "code",
   "execution_count": 11,
   "metadata": {},
   "outputs": [
    {
     "data": {
      "text/plain": [
       "4    44232\n",
       "3    44232\n",
       "2    44232\n",
       "1    44232\n",
       "Name: injury_level, dtype: int64"
      ]
     },
     "execution_count": 11,
     "metadata": {},
     "output_type": "execute_result"
    }
   ],
   "source": [
    "y_train.value_counts()"
   ]
  },
  {
   "cell_type": "markdown",
   "metadata": {},
   "source": [
    "## Deal with multicollinearity"
   ]
  },
  {
   "cell_type": "code",
   "execution_count": 12,
   "metadata": {},
   "outputs": [],
   "source": [
    "X_train = X_train.drop(columns=['motor_6', 'maneuver_26', 'initial_shock_9', 'movable_obstacle_9', 'travel_reason_9',\n",
    "                                'sex_2', 'user_category_3', 'place_9', 'Max Speed_nan', 'situation of the accident_nan',\n",
    "                                'surface condition_nan', 'plan layout_nan' , 'total number of traffic lanes_nan',\n",
    "                                'traffic regime_nan', 'road category_nan' , 'Weekend/Holiday_1.0','collision type_7.0',\n",
    "                                'atmospheric conditions_9.0', 'intersection_9.0', 'agglomeration_2.0', 'light_5.0',\n",
    "                                'Not determinable'])\n",
    "\n",
    "X_test = X_test.drop(columns=['motor_6', 'maneuver_26', 'initial_shock_9', 'movable_obstacle_9', 'travel_reason_9',\n",
    "                              'sex_2', 'user_category_3', 'place_9', 'Max Speed_nan', 'situation of the accident_nan',\n",
    "                              'surface condition_nan', 'plan layout_nan' , 'total number of traffic lanes_nan',\n",
    "                              'traffic regime_nan', 'road category_nan' , 'Weekend/Holiday_1.0','collision type_7.0',\n",
    "                              'atmospheric conditions_9.0', 'intersection_9.0', 'agglomeration_2.0', 'light_5.0',\n",
    "                              'Not determinable'])"
   ]
  },
  {
   "cell_type": "markdown",
   "metadata": {},
   "source": [
    "### Build models"
   ]
  },
  {
   "cell_type": "code",
   "execution_count": 15,
   "metadata": {},
   "outputs": [],
   "source": [
    "lr = LogisticRegression(multi_class='multinomial', solver='lbfgs',\n",
    "                         random_state=1, max_iter=10000)\n",
    "clf = lr.fit(X_train, y_train)"
   ]
  },
  {
   "cell_type": "code",
   "execution_count": 16,
   "metadata": {},
   "outputs": [
    {
     "data": {
      "text/plain": [
       "0.5765152654534517"
      ]
     },
     "execution_count": 16,
     "metadata": {},
     "output_type": "execute_result"
    }
   ],
   "source": [
    "# Test set Accuracy\n",
    "from sklearn.metrics import f1_score, accuracy_score, confusion_matrix, classification_report, roc_curve\n",
    "from sklearn.metrics import roc_auc_score\n",
    "from sklearn.metrics import roc_auc_score\n",
    "\n",
    "ypredict = clf.predict(X_test)\n",
    "accuracy_score(y_test, ypredict)"
   ]
  },
  {
   "cell_type": "code",
   "execution_count": 17,
   "metadata": {},
   "outputs": [
    {
     "data": {
      "text/plain": [
       "0.5624830439500814"
      ]
     },
     "execution_count": 17,
     "metadata": {},
     "output_type": "execute_result"
    }
   ],
   "source": [
    "# Training set accuracy\n",
    "train_pred = clf.predict(X_train)\n",
    "accuracy_score(y_train, train_pred)"
   ]
  },
  {
   "cell_type": "code",
   "execution_count": 18,
   "metadata": {},
   "outputs": [
    {
     "data": {
      "text/html": [
       "<div>\n",
       "<style scoped>\n",
       "    .dataframe tbody tr th:only-of-type {\n",
       "        vertical-align: middle;\n",
       "    }\n",
       "\n",
       "    .dataframe tbody tr th {\n",
       "        vertical-align: top;\n",
       "    }\n",
       "\n",
       "    .dataframe thead th {\n",
       "        text-align: right;\n",
       "    }\n",
       "</style>\n",
       "<table border=\"1\" class=\"dataframe\">\n",
       "  <thead>\n",
       "    <tr style=\"text-align: right;\">\n",
       "      <th></th>\n",
       "      <th>latitude</th>\n",
       "      <th>lontitude</th>\n",
       "      <th>hour</th>\n",
       "      <th>No equipment</th>\n",
       "      <th>Belt</th>\n",
       "      <th>Helmet</th>\n",
       "      <th>Children device</th>\n",
       "      <th>reflective vest</th>\n",
       "      <th>Airbag (2WD / 3WD)</th>\n",
       "      <th>Gloves (2WD / 3WD)</th>\n",
       "      <th>...</th>\n",
       "      <th>maneuver_7</th>\n",
       "      <th>maneuver_8</th>\n",
       "      <th>maneuver_9</th>\n",
       "      <th>motor_-1</th>\n",
       "      <th>motor_0</th>\n",
       "      <th>motor_1</th>\n",
       "      <th>motor_2</th>\n",
       "      <th>motor_3</th>\n",
       "      <th>motor_4</th>\n",
       "      <th>motor_5</th>\n",
       "    </tr>\n",
       "  </thead>\n",
       "  <tbody>\n",
       "    <tr>\n",
       "      <th>54813</th>\n",
       "      <td>0.002724</td>\n",
       "      <td>0.000679</td>\n",
       "      <td>0.001130</td>\n",
       "      <td>1</td>\n",
       "      <td>1</td>\n",
       "      <td>0</td>\n",
       "      <td>0</td>\n",
       "      <td>0</td>\n",
       "      <td>0</td>\n",
       "      <td>0</td>\n",
       "      <td>...</td>\n",
       "      <td>0</td>\n",
       "      <td>0</td>\n",
       "      <td>0</td>\n",
       "      <td>0</td>\n",
       "      <td>0</td>\n",
       "      <td>1</td>\n",
       "      <td>0</td>\n",
       "      <td>0</td>\n",
       "      <td>0</td>\n",
       "      <td>0</td>\n",
       "    </tr>\n",
       "    <tr>\n",
       "      <th>91139</th>\n",
       "      <td>0.002672</td>\n",
       "      <td>-0.000072</td>\n",
       "      <td>0.001884</td>\n",
       "      <td>0</td>\n",
       "      <td>1</td>\n",
       "      <td>0</td>\n",
       "      <td>0</td>\n",
       "      <td>0</td>\n",
       "      <td>0</td>\n",
       "      <td>0</td>\n",
       "      <td>...</td>\n",
       "      <td>0</td>\n",
       "      <td>0</td>\n",
       "      <td>0</td>\n",
       "      <td>0</td>\n",
       "      <td>0</td>\n",
       "      <td>1</td>\n",
       "      <td>0</td>\n",
       "      <td>0</td>\n",
       "      <td>0</td>\n",
       "      <td>0</td>\n",
       "    </tr>\n",
       "    <tr>\n",
       "      <th>6139</th>\n",
       "      <td>0.002910</td>\n",
       "      <td>0.000348</td>\n",
       "      <td>0.003391</td>\n",
       "      <td>1</td>\n",
       "      <td>1</td>\n",
       "      <td>0</td>\n",
       "      <td>0</td>\n",
       "      <td>0</td>\n",
       "      <td>0</td>\n",
       "      <td>0</td>\n",
       "      <td>...</td>\n",
       "      <td>0</td>\n",
       "      <td>0</td>\n",
       "      <td>0</td>\n",
       "      <td>0</td>\n",
       "      <td>0</td>\n",
       "      <td>1</td>\n",
       "      <td>0</td>\n",
       "      <td>0</td>\n",
       "      <td>0</td>\n",
       "      <td>0</td>\n",
       "    </tr>\n",
       "    <tr>\n",
       "      <th>27957</th>\n",
       "      <td>0.002699</td>\n",
       "      <td>0.000676</td>\n",
       "      <td>0.004145</td>\n",
       "      <td>0</td>\n",
       "      <td>0</td>\n",
       "      <td>0</td>\n",
       "      <td>0</td>\n",
       "      <td>1</td>\n",
       "      <td>0</td>\n",
       "      <td>0</td>\n",
       "      <td>...</td>\n",
       "      <td>0</td>\n",
       "      <td>0</td>\n",
       "      <td>0</td>\n",
       "      <td>0</td>\n",
       "      <td>0</td>\n",
       "      <td>1</td>\n",
       "      <td>0</td>\n",
       "      <td>0</td>\n",
       "      <td>0</td>\n",
       "      <td>0</td>\n",
       "    </tr>\n",
       "    <tr>\n",
       "      <th>126218</th>\n",
       "      <td>0.002902</td>\n",
       "      <td>0.000330</td>\n",
       "      <td>0.002073</td>\n",
       "      <td>0</td>\n",
       "      <td>1</td>\n",
       "      <td>0</td>\n",
       "      <td>0</td>\n",
       "      <td>0</td>\n",
       "      <td>0</td>\n",
       "      <td>0</td>\n",
       "      <td>...</td>\n",
       "      <td>0</td>\n",
       "      <td>0</td>\n",
       "      <td>0</td>\n",
       "      <td>0</td>\n",
       "      <td>0</td>\n",
       "      <td>1</td>\n",
       "      <td>0</td>\n",
       "      <td>0</td>\n",
       "      <td>0</td>\n",
       "      <td>0</td>\n",
       "    </tr>\n",
       "    <tr>\n",
       "      <th>...</th>\n",
       "      <td>...</td>\n",
       "      <td>...</td>\n",
       "      <td>...</td>\n",
       "      <td>...</td>\n",
       "      <td>...</td>\n",
       "      <td>...</td>\n",
       "      <td>...</td>\n",
       "      <td>...</td>\n",
       "      <td>...</td>\n",
       "      <td>...</td>\n",
       "      <td>...</td>\n",
       "      <td>...</td>\n",
       "      <td>...</td>\n",
       "      <td>...</td>\n",
       "      <td>...</td>\n",
       "      <td>...</td>\n",
       "      <td>...</td>\n",
       "      <td>...</td>\n",
       "      <td>...</td>\n",
       "      <td>...</td>\n",
       "      <td>...</td>\n",
       "    </tr>\n",
       "    <tr>\n",
       "      <th>4368</th>\n",
       "      <td>0.002723</td>\n",
       "      <td>0.000686</td>\n",
       "      <td>0.002261</td>\n",
       "      <td>1</td>\n",
       "      <td>1</td>\n",
       "      <td>0</td>\n",
       "      <td>0</td>\n",
       "      <td>0</td>\n",
       "      <td>0</td>\n",
       "      <td>0</td>\n",
       "      <td>...</td>\n",
       "      <td>0</td>\n",
       "      <td>0</td>\n",
       "      <td>0</td>\n",
       "      <td>0</td>\n",
       "      <td>0</td>\n",
       "      <td>1</td>\n",
       "      <td>0</td>\n",
       "      <td>0</td>\n",
       "      <td>0</td>\n",
       "      <td>0</td>\n",
       "    </tr>\n",
       "    <tr>\n",
       "      <th>39091</th>\n",
       "      <td>0.002574</td>\n",
       "      <td>0.000857</td>\n",
       "      <td>0.001507</td>\n",
       "      <td>0</td>\n",
       "      <td>1</td>\n",
       "      <td>0</td>\n",
       "      <td>0</td>\n",
       "      <td>0</td>\n",
       "      <td>0</td>\n",
       "      <td>0</td>\n",
       "      <td>...</td>\n",
       "      <td>0</td>\n",
       "      <td>0</td>\n",
       "      <td>0</td>\n",
       "      <td>0</td>\n",
       "      <td>0</td>\n",
       "      <td>1</td>\n",
       "      <td>0</td>\n",
       "      <td>0</td>\n",
       "      <td>0</td>\n",
       "      <td>0</td>\n",
       "    </tr>\n",
       "    <tr>\n",
       "      <th>15664</th>\n",
       "      <td>0.002895</td>\n",
       "      <td>0.000231</td>\n",
       "      <td>0.002826</td>\n",
       "      <td>0</td>\n",
       "      <td>1</td>\n",
       "      <td>0</td>\n",
       "      <td>0</td>\n",
       "      <td>0</td>\n",
       "      <td>0</td>\n",
       "      <td>0</td>\n",
       "      <td>...</td>\n",
       "      <td>0</td>\n",
       "      <td>0</td>\n",
       "      <td>0</td>\n",
       "      <td>0</td>\n",
       "      <td>0</td>\n",
       "      <td>1</td>\n",
       "      <td>0</td>\n",
       "      <td>0</td>\n",
       "      <td>0</td>\n",
       "      <td>0</td>\n",
       "    </tr>\n",
       "    <tr>\n",
       "      <th>116001</th>\n",
       "      <td>0.002659</td>\n",
       "      <td>-0.000166</td>\n",
       "      <td>0.002638</td>\n",
       "      <td>0</td>\n",
       "      <td>0</td>\n",
       "      <td>1</td>\n",
       "      <td>0</td>\n",
       "      <td>1</td>\n",
       "      <td>0</td>\n",
       "      <td>0</td>\n",
       "      <td>...</td>\n",
       "      <td>0</td>\n",
       "      <td>0</td>\n",
       "      <td>0</td>\n",
       "      <td>0</td>\n",
       "      <td>0</td>\n",
       "      <td>0</td>\n",
       "      <td>0</td>\n",
       "      <td>1</td>\n",
       "      <td>0</td>\n",
       "      <td>0</td>\n",
       "    </tr>\n",
       "    <tr>\n",
       "      <th>49095</th>\n",
       "      <td>0.002729</td>\n",
       "      <td>0.000177</td>\n",
       "      <td>0.001696</td>\n",
       "      <td>1</td>\n",
       "      <td>1</td>\n",
       "      <td>0</td>\n",
       "      <td>0</td>\n",
       "      <td>0</td>\n",
       "      <td>0</td>\n",
       "      <td>0</td>\n",
       "      <td>...</td>\n",
       "      <td>0</td>\n",
       "      <td>0</td>\n",
       "      <td>0</td>\n",
       "      <td>0</td>\n",
       "      <td>0</td>\n",
       "      <td>1</td>\n",
       "      <td>0</td>\n",
       "      <td>0</td>\n",
       "      <td>0</td>\n",
       "      <td>0</td>\n",
       "    </tr>\n",
       "  </tbody>\n",
       "</table>\n",
       "<p>176928 rows × 192 columns</p>\n",
       "</div>"
      ],
      "text/plain": [
       "        latitude  lontitude      hour  No equipment  Belt  Helmet  \\\n",
       "54813   0.002724   0.000679  0.001130             1     1       0   \n",
       "91139   0.002672  -0.000072  0.001884             0     1       0   \n",
       "6139    0.002910   0.000348  0.003391             1     1       0   \n",
       "27957   0.002699   0.000676  0.004145             0     0       0   \n",
       "126218  0.002902   0.000330  0.002073             0     1       0   \n",
       "...          ...        ...       ...           ...   ...     ...   \n",
       "4368    0.002723   0.000686  0.002261             1     1       0   \n",
       "39091   0.002574   0.000857  0.001507             0     1       0   \n",
       "15664   0.002895   0.000231  0.002826             0     1       0   \n",
       "116001  0.002659  -0.000166  0.002638             0     0       1   \n",
       "49095   0.002729   0.000177  0.001696             1     1       0   \n",
       "\n",
       "        Children device  reflective vest  Airbag (2WD / 3WD)  \\\n",
       "54813                 0                0                   0   \n",
       "91139                 0                0                   0   \n",
       "6139                  0                0                   0   \n",
       "27957                 0                1                   0   \n",
       "126218                0                0                   0   \n",
       "...                 ...              ...                 ...   \n",
       "4368                  0                0                   0   \n",
       "39091                 0                0                   0   \n",
       "15664                 0                0                   0   \n",
       "116001                0                1                   0   \n",
       "49095                 0                0                   0   \n",
       "\n",
       "        Gloves (2WD / 3WD)  ...  maneuver_7  maneuver_8  maneuver_9  motor_-1  \\\n",
       "54813                    0  ...           0           0           0         0   \n",
       "91139                    0  ...           0           0           0         0   \n",
       "6139                     0  ...           0           0           0         0   \n",
       "27957                    0  ...           0           0           0         0   \n",
       "126218                   0  ...           0           0           0         0   \n",
       "...                    ...  ...         ...         ...         ...       ...   \n",
       "4368                     0  ...           0           0           0         0   \n",
       "39091                    0  ...           0           0           0         0   \n",
       "15664                    0  ...           0           0           0         0   \n",
       "116001                   0  ...           0           0           0         0   \n",
       "49095                    0  ...           0           0           0         0   \n",
       "\n",
       "        motor_0  motor_1  motor_2  motor_3  motor_4  motor_5  \n",
       "54813         0        1        0        0        0        0  \n",
       "91139         0        1        0        0        0        0  \n",
       "6139          0        1        0        0        0        0  \n",
       "27957         0        1        0        0        0        0  \n",
       "126218        0        1        0        0        0        0  \n",
       "...         ...      ...      ...      ...      ...      ...  \n",
       "4368          0        1        0        0        0        0  \n",
       "39091         0        1        0        0        0        0  \n",
       "15664         0        1        0        0        0        0  \n",
       "116001        0        0        0        1        0        0  \n",
       "49095         0        1        0        0        0        0  \n",
       "\n",
       "[176928 rows x 192 columns]"
      ]
     },
     "execution_count": 18,
     "metadata": {},
     "output_type": "execute_result"
    }
   ],
   "source": [
    "X_train"
   ]
  },
  {
   "cell_type": "code",
   "execution_count": 20,
   "metadata": {},
   "outputs": [
    {
     "data": {
      "text/plain": [
       "0.5606687466087901"
      ]
     },
     "execution_count": 20,
     "metadata": {},
     "output_type": "execute_result"
    }
   ],
   "source": [
    "# Cross validation accuracy score\n",
    "from sklearn.model_selection import cross_val_score\n",
    "cross_val_score(lr, X_train, y_train, scoring=\"accuracy\", cv=3).mean()"
   ]
  },
  {
   "cell_type": "markdown",
   "metadata": {},
   "source": [
    "## Metrics"
   ]
  },
  {
   "cell_type": "code",
   "execution_count": 21,
   "metadata": {},
   "outputs": [
    {
     "name": "stdout",
     "output_type": "stream",
     "text": [
      "\n",
      "Logistic Regression\n",
      "{1: 0.7788769047509865, 2: 0.7361462431627402, 3: 0.6227002042497002, 4: 0.6581105932550385}\n"
     ]
    }
   ],
   "source": [
    "# Area under ROC\n",
    "\n",
    "def roc_auc_score_multiclass(actual_class, pred_class, average = \"macro\"):\n",
    "    #creating a set of all the unique classes using the actual class list\n",
    "    unique_class = set(actual_class)\n",
    "    roc_auc_dict = {}\n",
    "\n",
    "    for per_class in unique_class:\n",
    "        \n",
    "        #creating a list of all the classes except the current class \n",
    "        other_class = [x for x in unique_class if x != per_class]\n",
    "\n",
    "        #marking the current class as 1 and all other classes as 0\n",
    "        new_actual_class = [0 if x in other_class else 1 for x in actual_class]\n",
    "        new_pred_class = [0 if x in other_class else 1 for x in pred_class]\n",
    "\n",
    "        #using the sklearn metrics method to calculate the roc_auc_score\n",
    "        roc_auc = roc_auc_score(new_actual_class, new_pred_class, average = average)\n",
    "        roc_auc_dict[per_class] = roc_auc\n",
    "\n",
    "\n",
    "    return roc_auc_dict\n",
    "\n",
    "print(\"\\nLogistic Regression\")\n",
    "# assuming your already have a list of actual_class and predicted_class from the logistic regression classifier\n",
    "lr_roc_auc_multiclass = roc_auc_score_multiclass(y_test, clf.predict(X_test))\n",
    "print(lr_roc_auc_multiclass)"
   ]
  },
  {
   "cell_type": "code",
   "execution_count": 22,
   "metadata": {},
   "outputs": [],
   "source": [
    "import numpy as np\n",
    "\n",
    "mat = confusion_matrix(y_test, clf.predict(X_test))\n",
    "\n",
    "FP = mat.sum(axis=0) - np.diag(mat)  \n",
    "FN = mat.sum(axis=1) - np.diag(mat)\n",
    "TP = np.diag(mat)\n",
    "TN = mat.sum() - (FP + FN + TP)\n",
    "\n",
    "# Sensitivity, hit rate, recall, or true positive rate\n",
    "TPR = TP/(TP+FN)\n",
    "# Specificity or true negative rate\n",
    "TNR = TN/(TN+FP) \n",
    "# Precision or positive predictive value\n",
    "PPV = TP/(TP+FP)\n",
    "# Negative predictive value\n",
    "NPV = TN/(TN+FN)\n",
    "# Fall out or false positive rate\n",
    "FPR = FP/(FP+TN)\n",
    "# False negative rate\n",
    "FNR = FN/(TP+FN)\n",
    "# False discovery rate\n",
    "FDR = FP/(TP+FP)\n",
    "\n",
    "# Overall accuracy\n",
    "ACC = (TP+TN)/(TP+FP+FN+TN)"
   ]
  },
  {
   "cell_type": "code",
   "execution_count": 23,
   "metadata": {
    "scrolled": true
   },
   "outputs": [
    {
     "data": {
      "text/plain": [
       "array([0.75924923, 0.58765778, 0.36811454, 0.46657303])"
      ]
     },
     "execution_count": 23,
     "metadata": {},
     "output_type": "execute_result"
    }
   ],
   "source": [
    "# Recall\n",
    "TPR"
   ]
  },
  {
   "cell_type": "code",
   "execution_count": 24,
   "metadata": {},
   "outputs": [
    {
     "data": {
      "text/plain": [
       "array([0.72911612, 0.12305433, 0.3548538 , 0.67556941])"
      ]
     },
     "execution_count": 24,
     "metadata": {},
     "output_type": "execute_result"
    }
   ],
   "source": [
    "# Precision\n",
    "PPV"
   ]
  },
  {
   "cell_type": "code",
   "execution_count": 27,
   "metadata": {},
   "outputs": [
    {
     "ename": "NameError",
     "evalue": "name 'plt' is not defined",
     "output_type": "error",
     "traceback": [
      "\u001b[0;31m---------------------------------------------------------------------------\u001b[0m",
      "\u001b[0;31mNameError\u001b[0m                                 Traceback (most recent call last)",
      "\u001b[0;32m<ipython-input-27-2eda4f88549d>\u001b[0m in \u001b[0;36m<module>\u001b[0;34m\u001b[0m\n\u001b[1;32m      3\u001b[0m \u001b[0mticks\u001b[0m \u001b[0;34m=\u001b[0m \u001b[0;34m[\u001b[0m\u001b[0;36m0\u001b[0m\u001b[0;34m,\u001b[0m \u001b[0;36m1\u001b[0m\u001b[0;34m,\u001b[0m \u001b[0;36m2\u001b[0m\u001b[0;34m,\u001b[0m \u001b[0;36m3\u001b[0m\u001b[0;34m]\u001b[0m\u001b[0;34m\u001b[0m\u001b[0;34m\u001b[0m\u001b[0m\n\u001b[1;32m      4\u001b[0m \u001b[0mlabels\u001b[0m \u001b[0;34m=\u001b[0m \u001b[0;34m[\u001b[0m\u001b[0;34m'Unharmed'\u001b[0m\u001b[0;34m,\u001b[0m \u001b[0;34m'Killed'\u001b[0m\u001b[0;34m,\u001b[0m \u001b[0;34m'Injured hospitalized'\u001b[0m\u001b[0;34m,\u001b[0m \u001b[0;34m'Slightly Injured'\u001b[0m\u001b[0;34m]\u001b[0m\u001b[0;34m\u001b[0m\u001b[0;34m\u001b[0m\u001b[0m\n\u001b[0;32m----> 5\u001b[0;31m \u001b[0mplt\u001b[0m\u001b[0;34m.\u001b[0m\u001b[0mxticks\u001b[0m\u001b[0;34m(\u001b[0m\u001b[0mticks\u001b[0m\u001b[0;34m,\u001b[0m \u001b[0mlabels\u001b[0m\u001b[0;34m,\u001b[0m \u001b[0mrotation\u001b[0m \u001b[0;34m=\u001b[0m \u001b[0;36m20\u001b[0m\u001b[0;34m)\u001b[0m\u001b[0;34m\u001b[0m\u001b[0;34m\u001b[0m\u001b[0m\n\u001b[0m\u001b[1;32m      6\u001b[0m \u001b[0mplt\u001b[0m\u001b[0;34m.\u001b[0m\u001b[0myticks\u001b[0m\u001b[0;34m(\u001b[0m\u001b[0mticks\u001b[0m\u001b[0;34m,\u001b[0m \u001b[0mlabels\u001b[0m\u001b[0;34m)\u001b[0m\u001b[0;34m\u001b[0m\u001b[0;34m\u001b[0m\u001b[0m\n\u001b[1;32m      7\u001b[0m \u001b[0mplt\u001b[0m\u001b[0;34m.\u001b[0m\u001b[0mshow\u001b[0m\u001b[0;34m(\u001b[0m\u001b[0;34m)\u001b[0m\u001b[0;34m\u001b[0m\u001b[0;34m\u001b[0m\u001b[0m\n",
      "\u001b[0;31mNameError\u001b[0m: name 'plt' is not defined"
     ]
    },
    {
     "data": {
      "image/png": "[encoded data removed]",
      "text/plain": [
       "<Figure size 432x288 with 2 Axes>"
      ]
     },
     "metadata": {
      "needs_background": "light"
     },
     "output_type": "display_data"
    }
   ],
   "source": [
    "# confusion matrix\n",
    "from sklearn.metrics import plot_confusion_matrix\n",
    "plot_confusion_matrix(clf, X_test, y_test)  \n",
    "ticks = [0, 1, 2, 3]\n",
    "labels = ['Unharmed', 'Killed', 'Injured hospitalized', 'Slightly Injured']\n",
    "plt.xticks(ticks, labels, rotation = 20)\n",
    "plt.yticks(ticks, labels)\n",
    "plt.show()"
   ]
  },
  {
   "cell_type": "markdown",
   "metadata": {},
   "source": [
    "## Fairness"
   ]
  },
  {
   "cell_type": "code",
   "execution_count": 96,
   "metadata": {},
   "outputs": [
    {
     "data": {
      "text/plain": [
       "0.5820986289252543"
      ]
     },
     "execution_count": 96,
     "metadata": {},
     "output_type": "execute_result"
    }
   ],
   "source": [
    "# Fairness\n",
    "# Male accuracy\n",
    "male = test[test['sex_1']==1]\n",
    "male = male.drop(columns=['motor_6', 'maneuver_26', 'initial_shock_9', 'movable_obstacle_9', 'travel_reason_9',\n",
    "                          'sex_2', 'user_category_3', 'place_9', 'Max Speed_nan', 'situation of the accident_nan',\n",
    "                          'surface condition_nan', 'plan layout_nan' , 'total number of traffic lanes_nan',\n",
    "                          'traffic regime_nan', 'road category_nan' , 'Weekend/Holiday_1.0','collision type_7.0',\n",
    "                          'atmospheric conditions_9.0', 'intersection_9.0', 'agglomeration_2.0', 'light_5.0',\n",
    "                          'Not determinable'])\n",
    "male_x = male.iloc[:, male.columns!='injury_level']\n",
    "male_y = male['injury_level']\n",
    "\n",
    "male_predict = clf.predict(male_x)\n",
    "accuracy_score(male_y,male_predict)"
   ]
  },
  {
   "cell_type": "code",
   "execution_count": 97,
   "metadata": {},
   "outputs": [
    {
     "data": {
      "text/plain": [
       "0.5646450399623884"
      ]
     },
     "execution_count": 97,
     "metadata": {},
     "output_type": "execute_result"
    }
   ],
   "source": [
    "# Female accuracy\n",
    "female = test[test['sex_1']==0]\n",
    "female = female.drop(columns=['motor_6', 'maneuver_26', 'initial_shock_9', 'movable_obstacle_9', 'travel_reason_9',\n",
    "                              'sex_2', 'user_category_3', 'place_9', 'Max Speed_nan', 'situation of the accident_nan',\n",
    "                              'surface condition_nan', 'plan layout_nan' , 'total number of traffic lanes_nan',\n",
    "                              'traffic regime_nan', 'road category_nan' , 'Weekend/Holiday_1.0','collision type_7.0',\n",
    "                              'atmospheric conditions_9.0', 'intersection_9.0', 'agglomeration_2.0', 'light_5.0',\n",
    "                              'Not determinable'])\n",
    "female_x = female.iloc[:, female.columns!='injury_level']\n",
    "female_y = female['injury_level']\n",
    "\n",
    "female_predict = clf.predict(female_x)\n",
    "accuracy_score(female_y,female_predict)"
   ]
  },
  {
   "cell_type": "code",
   "execution_count": 98,
   "metadata": {},
   "outputs": [
    {
     "data": {
      "text/plain": [
       "array([0.22123981, 0.14218118, 0.11108181, 0.09916484])"
      ]
     },
     "execution_count": 98,
     "metadata": {},
     "output_type": "execute_result"
    }
   ],
   "source": [
    "# male false positive rate\n",
    "import numpy as np\n",
    "\n",
    "mat = confusion_matrix(male_y, male_predict)\n",
    "\n",
    "FP = mat.sum(axis=0) - np.diag(mat)  \n",
    "FN = mat.sum(axis=1) - np.diag(mat)\n",
    "TP = np.diag(mat)\n",
    "TN = mat.sum() - (FP + FN + TP)\n",
    "\n",
    "# False positive rate\n",
    "false_positive = []\n",
    "for i in range(4):\n",
    "    false_positive.append(FP[i]/len(male_y[male_y==i+1]))\n",
    "FP/(FP+TN)"
   ]
  },
  {
   "cell_type": "code",
   "execution_count": 99,
   "metadata": {},
   "outputs": [
    {
     "data": {
      "text/plain": [
       "array([0.16382381, 0.05897866, 0.14686559, 0.278573  ])"
      ]
     },
     "execution_count": 99,
     "metadata": {},
     "output_type": "execute_result"
    }
   ],
   "source": [
    "# female false positive rate\n",
    "import numpy as np\n",
    "\n",
    "mat = confusion_matrix(female_y, female_predict)\n",
    "\n",
    "FP = mat.sum(axis=0) - np.diag(mat)  \n",
    "FN = mat.sum(axis=1) - np.diag(mat)\n",
    "TP = np.diag(mat)\n",
    "TN = mat.sum() - (FP + FN + TP)\n",
    "\n",
    "# False positive rate\n",
    "false_positive = []\n",
    "for i in range(4):\n",
    "    false_positive.append(FP[i]/len(female_y[female_y==i+1]))\n",
    "\n",
    "FP/(FP+TN)"
   ]
  },
  {
   "cell_type": "code",
   "execution_count": 100,
   "metadata": {},
   "outputs": [
    {
     "data": {
      "text/plain": [
       "array([0.22772374, 0.05075736, 0.14828269, 0.09819852])"
      ]
     },
     "execution_count": 100,
     "metadata": {},
     "output_type": "execute_result"
    }
   ],
   "source": [
    "# Male false positive (random forest)\n",
    "mat_male = np.array([[6629, 175, 504, 559],\n",
    "                    [50, 225, 231, 45],\n",
    "                    [361, 441, 1596, 508],\n",
    "                    [1907, 272, 1510, 3033]])\n",
    "FP = mat_male.sum(axis=0) - np.diag(mat_male)  \n",
    "FN = mat_male.sum(axis=1) - np.diag(mat_male)\n",
    "TP = np.diag(mat_male)\n",
    "TN = mat_male.sum() - (FP + FN + TP)\n",
    "FP/(FP+TN)"
   ]
  },
  {
   "cell_type": "code",
   "execution_count": 101,
   "metadata": {},
   "outputs": [
    {
     "data": {
      "text/plain": [
       "array([0.16227666, 0.03022011, 0.15918423, 0.23813747])"
      ]
     },
     "execution_count": 101,
     "metadata": {},
     "output_type": "execute_result"
    }
   ],
   "source": [
    "# Female false positive (random forest)\n",
    "mat_female = np.array([[2001, 45, 275, 800],\n",
    "                       [9, 39, 84, 13],\n",
    "                       [100, 126, 757, 261],\n",
    "                       [772, 83, 804, 2381]])\n",
    "FP = mat_female.sum(axis=0) - np.diag(mat_female)  \n",
    "FN = mat_female.sum(axis=1) - np.diag(mat_female)\n",
    "TP = np.diag(mat_female)\n",
    "TN = mat_female.sum() - (FP + FN + TP)\n",
    "FP/(FP+TN)"
   ]
  },
  {
   "cell_type": "markdown",
   "metadata": {},
   "source": [
    "### Feature importance for random forest model"
   ]
  },
  {
   "cell_type": "code",
   "execution_count": 94,
   "metadata": {},
   "outputs": [
    {
     "data": {
      "image/png": "[encoded data removed]",
      "text/plain": [
       "<Figure size 432x288 with 1 Axes>"
      ]
     },
     "metadata": {
      "needs_background": "light"
     },
     "output_type": "display_data"
    }
   ],
   "source": [
    "importance = np.array([0.0716482877905661, 0.065607322 , 0.063007617, 0.048819514, 0.031044522, 0.018901427063559278,\n",
    "                       0.0164306429786191, 0.015538613340996231, 0.013159576849384179, 0.013044601600288136, 0.01233624665516959,\n",
    "                       0.012235779119952718])\n",
    "\n",
    "label  = ['age', 'latitude', 'longitude', 'hour', 'belt', 'helmet', 'number of safety equip','No fixed obstacle', \n",
    "          'Shock before the car', 'no direction change' ,'pedestrian', 'walk, leisure']\n",
    "\n",
    "\n",
    "ind = np.arange(12)    # the x locations for the groups\n",
    "width = 0.25       \n",
    "\n",
    "fig, ax = plt.subplots()\n",
    "\n",
    "p1 = ax.bar(ind, importance, width)\n",
    "ax.set_ylabel('Feature Importance')\n",
    "ax.set_xticks(ind)\n",
    "ax.set_xticklabels(label,rotation=70)  \n",
    "\n",
    "plt.show()\n",
    "                      \n",
    "                      "
   ]
  },
  {
   "cell_type": "code",
   "execution_count": null,
   "metadata": {},
   "outputs": [],
   "source": []
  },
  {
   "cell_type": "code",
   "execution_count": null,
   "metadata": {},
   "outputs": [],
   "source": []
  }
 ],
 "metadata": {
  "kernelspec": {
   "display_name": "Python 3",
   "language": "python",
   "name": "python3"
  },
  "language_info": {
   "codemirror_mode": {
    "name": "ipython",
    "version": 3
   },
   "file_extension": ".py",
   "mimetype": "text/x-python",
   "name": "python",
   "nbconvert_exporter": "python",
   "pygments_lexer": "ipython3",
   "version": "3.8.5"
  }
 },
 "nbformat": 4,
 "nbformat_minor": 4
}
